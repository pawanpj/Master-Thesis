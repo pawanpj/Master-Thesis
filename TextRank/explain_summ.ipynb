{
 "cells": [
  {
   "cell_type": "code",
   "execution_count": 1,
   "metadata": {},
   "outputs": [],
   "source": [
    "# for use in tutorial and development; do not include this `sys.path` change in production:\n",
    "import sys ; sys.path.insert(0, \"../\")"
   ]
  },
  {
   "cell_type": "markdown",
   "metadata": {},
   "source": [
    "# Explain PyTextRank: extractive summarization\n",
    "\n",
    "How does **PyTextRank** perform *extractive summarization* on a text document?"
   ]
  },
  {
   "cell_type": "markdown",
   "metadata": {},
   "source": [
    "---\n",
    "First we perform some basic housekeeping for Jupyter, then load `spaCy` with a language model for English ..."
   ]
  },
  {
   "cell_type": "code",
   "execution_count": 11,
   "metadata": {},
   "outputs": [],
   "source": [
    "import warnings\n",
    "warnings.filterwarnings(\"ignore\")"
   ]
  },
  {
   "cell_type": "code",
   "execution_count": 12,
   "metadata": {},
   "outputs": [],
   "source": [
    "import spacy\n",
    "nlp = spacy.load(\"en_core_web_sm\")"
   ]
  },
  {
   "cell_type": "markdown",
   "metadata": {},
   "source": [
    "Create some text to use...."
   ]
  },
  {
   "cell_type": "code",
   "execution_count": 13,
   "metadata": {},
   "outputs": [],
   "source": [
    "text = \"The boy was running to catch the bus because he had an appointment with the doctor unfortunately the bus did not arrived on time hence the boy missed his appointment.\""
   ]
  },
  {
   "cell_type": "markdown",
   "metadata": {},
   "source": [
    "Then add **PyTextRank** into the `spaCy` pipeline..."
   ]
  },
  {
   "cell_type": "code",
   "execution_count": 14,
   "metadata": {},
   "outputs": [],
   "source": [
    "import pytextrank\n",
    "\n",
    "nlp.add_pipe(\"textrank\", last=True)\n",
    "doc = nlp(text)"
   ]
  },
  {
   "cell_type": "markdown",
   "metadata": {},
   "source": [
    "Examine the results: a list of top-ranked phrases in the document"
   ]
  },
  {
   "cell_type": "code",
   "execution_count": 27,
   "metadata": {
    "scrolled": true,
    "tags": []
   },
   "outputs": [
    {
     "name": "stderr",
     "output_type": "stream",
     "text": [
      "ic| sent.start: 0, sent.end: 31\n"
     ]
    }
   ],
   "source": [
    "from icecream import ic\n",
    "\n",
    "for sent in doc.sents:\n",
    "    ic(sent.start, sent.end)\n"
   ]
  },
  {
   "cell_type": "code",
   "execution_count": 28,
   "metadata": {},
   "outputs": [
    {
     "name": "stderr",
     "output_type": "stream",
     "text": [
      "ic| chunk.text: 'The boy'\n",
      "ic| chunk.text: 'the bus'\n",
      "ic| chunk.text: 'he'\n",
      "ic| chunk.text: 'an appointment'\n",
      "ic| chunk.text: 'the doctor'\n",
      "ic| chunk.text: 'the bus'\n",
      "ic| chunk.text: 'time'\n",
      "ic| chunk.text: 'the boy'\n",
      "ic| chunk.text: 'his appointment'\n"
     ]
    }
   ],
   "source": [
    "for chunk in doc.noun_chunks:\n",
    "    ic(chunk.text)\n"
   ]
  },
  {
   "cell_type": "code",
   "execution_count": 29,
   "metadata": {},
   "outputs": [],
   "source": [
    "for ent in doc.ents:\n",
    "    ic(ent.text, ent.label_, ent.start, ent.end)\n"
   ]
  },
  {
   "cell_type": "code",
   "execution_count": 31,
   "metadata": {},
   "outputs": [],
   "source": [
    "import networkx as nx\n",
    "\n",
    "def increment_edge (graph, node0, node1):\n",
    "    ic(node0, node1)\n",
    "\n",
    "    if graph.has_edge(node0, node1):\n",
    "        graph[node0][node1][\"weight\"] += 1.0\n",
    "    else:\n",
    "        graph.add_edge(node0, node1, weight=1.0)"
   ]
  },
  {
   "cell_type": "code",
   "execution_count": 32,
   "metadata": {},
   "outputs": [],
   "source": [
    "POS_KEPT = [\"ADJ\", \"NOUN\", \"PROPN\", \"VERB\"]\n",
    "\n",
    "def link_sentence (doc, sent, lemma_graph, seen_lemma):\n",
    "    visited_tokens = []\n",
    "    visited_nodes = []\n",
    "\n",
    "    for i in range(sent.start, sent.end):\n",
    "        token = doc[i]\n",
    "\n",
    "        if token.pos_ in POS_KEPT:\n",
    "            key = (token.lemma_, token.pos_)\n",
    "\n",
    "            if key not in seen_lemma:\n",
    "                seen_lemma[key] = set([token.i])\n",
    "            else:\n",
    "                seen_lemma[key].add(token.i)\n",
    "\n",
    "            node_id = list(seen_lemma.keys()).index(key)\n",
    "\n",
    "            if not node_id in lemma_graph:\n",
    "                lemma_graph.add_node(node_id)\n",
    "\n",
    "            ic(visited_tokens, visited_nodes)\n",
    "            ic(list(range(len(visited_tokens) - 1, -1, -1)))\n",
    "\n",
    "            for prev_token in range(len(visited_tokens) - 1, -1, -1):\n",
    "                ic(prev_token, (token.i - visited_tokens[prev_token]))\n",
    "\n",
    "                if (token.i - visited_tokens[prev_token]) <= 3:\n",
    "                    increment_edge(lemma_graph, node_id, visited_nodes[prev_token])\n",
    "                else:\n",
    "                    break\n",
    "\n",
    "            ic(token.i, token.text, token.lemma_, token.pos_, visited_tokens, visited_nodes)\n",
    "\n",
    "            visited_tokens.append(token.i)\n",
    "            visited_nodes.append(node_id)\n"
   ]
  },
  {
   "cell_type": "code",
   "execution_count": 33,
   "metadata": {},
   "outputs": [
    {
     "name": "stderr",
     "output_type": "stream",
     "text": [
      "ic| visited_tokens: [], visited_nodes: []\n",
      "ic| list(range(len(visited_tokens) - 1, -1, -1)): []\n",
      "ic| token.i: 1\n",
      "    token.text: 'boy'\n",
      "    token.lemma_: 'boy'\n",
      "    token.pos_: 'NOUN'\n",
      "    visited_tokens: []\n",
      "    visited_nodes: []\n",
      "ic| visited_tokens: [1], visited_nodes: [0]\n",
      "ic| list(range(len(visited_tokens) - 1, -1, -1)): [0]\n",
      "ic| prev_token: 0, token.i - visited_tokens[prev_token]: 2\n",
      "ic| node0: 1, node1: 0\n",
      "ic| token.i: 3\n",
      "    token.text: 'running'\n",
      "    token.lemma_: 'run'\n",
      "    token.pos_: 'VERB'\n",
      "    visited_tokens: [1]\n",
      "    visited_nodes: [0]\n",
      "ic| visited_tokens: [1, 3], visited_nodes: [0, 1]\n",
      "ic| list(range(len(visited_tokens) - 1, -1, -1)): [1, 0]\n",
      "ic| prev_token: 1, token.i - visited_tokens[prev_token]: 2\n",
      "ic| node0: 2, node1: 1\n",
      "ic| prev_token: 0, token.i - visited_tokens[prev_token]: 4\n",
      "ic| token.i: 5\n",
      "    token.text: 'catch'\n",
      "    token.lemma_: 'catch'\n",
      "    token.pos_: 'VERB'\n",
      "    visited_tokens: [1, 3]\n",
      "    visited_nodes: [0, 1]\n",
      "ic| visited_tokens: [1, 3, 5], visited_nodes: [0, 1, 2]\n",
      "ic| list(range(len(visited_tokens) - 1, -1, -1)): [2, 1, 0]\n",
      "ic| prev_token: 2, token.i - visited_tokens[prev_token]: 2\n",
      "ic| node0: 3, node1: 2\n",
      "ic| prev_token: 1, token.i - visited_tokens[prev_token]: 4\n",
      "ic| token.i: 7\n",
      "    token.text: 'bus'\n",
      "    token.lemma_: 'bus'\n",
      "    token.pos_: 'NOUN'\n",
      "    visited_tokens: [1, 3, 5]\n",
      "    visited_nodes: [0, 1, 2]\n",
      "ic| visited_tokens: [1, 3, 5, 7], visited_nodes: [0, 1, 2, 3]\n",
      "ic| list(range(len(visited_tokens) - 1, -1, -1)): [3, 2, 1, 0]\n",
      "ic| prev_token: 3, token.i - visited_tokens[prev_token]: 3\n",
      "ic| node0: 4, node1: 3\n",
      "ic| prev_token: 2, token.i - visited_tokens[prev_token]: 5\n",
      "ic| token.i: 10\n",
      "    token.text: 'had'\n",
      "    token.lemma_: 'have'\n",
      "    token.pos_: 'VERB'\n",
      "    visited_tokens: [1, 3, 5, 7]\n",
      "    visited_nodes: [0, 1, 2, 3]\n",
      "ic| visited_tokens: [1, 3, 5, 7, 10], visited_nodes: [0, 1, 2, 3, 4]\n",
      "ic| list(range(len(visited_tokens) - 1, -1, -1)): [4, 3, 2, 1, 0]\n",
      "ic| prev_token: 4, token.i - visited_tokens[prev_token]: 2\n",
      "ic| node0: 5, node1: 4\n",
      "ic| prev_token: 3, token.i - visited_tokens[prev_token]: 5\n",
      "ic| token.i: 12\n",
      "    token.text: 'appointment'\n",
      "    token.lemma_: 'appointment'\n",
      "    token.pos_: 'NOUN'\n",
      "    visited_tokens: [1, 3, 5, 7, 10]\n",
      "    visited_nodes: [0, 1, 2, 3, 4]\n",
      "ic| visited_tokens: [1, 3, 5, 7, 10, 12]\n",
      "    visited_nodes: [0, 1, 2, 3, 4, 5]\n",
      "ic| list(range(len(visited_tokens) - 1, -1, -1)): [5, 4, 3, 2, 1, 0]\n",
      "ic| prev_token: 5, token.i - visited_tokens[prev_token]: 3\n",
      "ic| node0: 6, node1: 5\n",
      "ic| prev_token: 4, token.i - visited_tokens[prev_token]: 5\n",
      "ic| token.i: 15\n",
      "    token.text: 'doctor'\n",
      "    token.lemma_: 'doctor'\n",
      "    token.pos_: 'NOUN'\n",
      "    visited_tokens: [1, 3, 5, 7, 10, 12]\n",
      "    visited_nodes: [0, 1, 2, 3, 4, 5]\n",
      "ic| visited_tokens: [1, 3, 5, 7, 10, 12, 15]\n",
      "    visited_nodes: [0, 1, 2, 3, 4, 5, 6]\n",
      "ic| list(range(len(visited_tokens) - 1, -1, -1)): [6, 5, 4, 3, 2, 1, 0]\n",
      "ic| prev_token: 6, token.i - visited_tokens[prev_token]: 3\n",
      "ic| node0: 3, node1: 6\n",
      "ic| prev_token: 5, token.i - visited_tokens[prev_token]: 6\n",
      "ic| token.i: 18\n",
      "    token.text: 'bus'\n",
      "    token.lemma_: 'bus'\n",
      "    token.pos_: 'NOUN'\n",
      "    visited_tokens: [1, 3, 5, 7, 10, 12, 15]\n",
      "    visited_nodes: [0, 1, 2, 3, 4, 5, 6]\n",
      "ic| visited_tokens: [1, 3, 5, 7, 10, 12, 15, 18]\n",
      "    visited_nodes: [0, 1, 2, 3, 4, 5, 6, 3]\n",
      "ic| list(range(len(visited_tokens) - 1, -1, -1)): [7, 6, 5, 4, 3, 2, 1, 0]\n",
      "ic| prev_token: 7, token.i - visited_tokens[prev_token]: 3\n",
      "ic| node0: 7, node1: 3\n",
      "ic| prev_token: 6, token.i - visited_tokens[prev_token]: 6\n",
      "ic| token.i: 21\n",
      "    token.text: 'arrived'\n",
      "    token.lemma_: 'arrive'\n",
      "    token.pos_: 'VERB'\n",
      "    visited_tokens: [1, 3, 5, 7, 10, 12, 15, 18]\n",
      "    visited_nodes: [0, 1, 2, 3, 4, 5, 6, 3]\n",
      "ic| visited_tokens: [1, 3, 5, 7, 10, 12, 15, 18, 21]\n",
      "    visited_nodes: [0, 1, 2, 3, 4, 5, 6, 3, 7]\n",
      "ic| list(range(len(visited_tokens) - 1, -1, -1)): [8, 7, 6, 5, 4, 3, 2, 1, 0]\n",
      "ic| prev_token: 8, token.i - visited_tokens[prev_token]: 2\n",
      "ic| node0: 8, node1: 7\n",
      "ic| prev_token: 7, token.i - visited_tokens[prev_token]: 5\n",
      "ic| token.i: 23\n",
      "    token.text: 'time'\n",
      "    token.lemma_: 'time'\n",
      "    token.pos_: 'NOUN'\n",
      "    visited_tokens: [1, 3, 5, 7, 10, 12, 15, 18, 21]\n",
      "    visited_nodes: [0, 1, 2, 3, 4, 5, 6, 3, 7]\n",
      "ic| visited_tokens: [1, 3, 5, 7, 10, 12, 15, 18, 21, 23]\n",
      "    visited_nodes: [0, 1, 2, 3, 4, 5, 6, 3, 7, 8]\n",
      "ic| list(range(len(visited_tokens) - 1, -1, -1)): [9, 8, 7, 6, 5, 4, 3, 2, 1, 0]\n",
      "ic| prev_token: 9, token.i - visited_tokens[prev_token]: 3\n",
      "ic| node0: 0, node1: 8\n",
      "ic| prev_token: 8, token.i - visited_tokens[prev_token]: 5\n",
      "ic| token.i: 26\n",
      "    token.text: 'boy'\n",
      "    token.lemma_: 'boy'\n",
      "    token.pos_: 'NOUN'\n",
      "    visited_tokens: [1, 3, 5, 7, 10, 12, 15, 18, 21, 23]\n",
      "    visited_nodes: [0, 1, 2, 3, 4, 5, 6, 3, 7, 8]\n",
      "ic| visited_tokens: [1, 3, 5, 7, 10, 12, 15, 18, 21, 23, 26]\n",
      "    visited_nodes: [0, 1, 2, 3, 4, 5, 6, 3, 7, 8, 0]\n",
      "ic| list(range(len(visited_tokens) - 1, -1, -1)): [10, 9, 8, 7, 6, 5, 4, 3, 2, 1, 0]\n",
      "ic| prev_token: 10, token.i - visited_tokens[prev_token]: 1\n",
      "ic| node0: 9, node1: 0\n",
      "ic| prev_token: 9, token.i - visited_tokens[prev_token]: 4\n",
      "ic| token.i: 27\n",
      "    token.text: 'missed'\n",
      "    token.lemma_: 'miss'\n",
      "    token.pos_: 'VERB'\n",
      "    visited_tokens: [1, 3, 5, 7, 10, 12, 15, 18, 21, 23, 26]\n",
      "    visited_nodes: [0, 1, 2, 3, 4, 5, 6, 3, 7, 8, 0]\n",
      "ic| visited_tokens: [1, 3, 5, 7, 10, 12, 15, 18, 21, 23, 26, 27]\n",
      "    visited_nodes: [0, 1, 2, 3, 4, 5, 6, 3, 7, 8, 0, 9]\n",
      "ic| list(range(len(visited_tokens) - 1, -1, -1)): [11, 10, 9, 8, 7, 6, 5, 4, 3, 2, 1, 0]\n",
      "ic| prev_token: 11, token.i - visited_tokens[prev_token]: 2\n",
      "ic| node0: 5, node1: 9\n",
      "ic| prev_token: 10, token.i - visited_tokens[prev_token]: 3\n",
      "ic| node0: 5, node1: 0\n",
      "ic| prev_token: 9, token.i - visited_tokens[prev_token]: 6\n",
      "ic| token.i: 29\n",
      "    token.text: 'appointment'\n",
      "    token.lemma_: 'appointment'\n",
      "    token.pos_: 'NOUN'\n",
      "    visited_tokens: [1, 3, 5, 7, 10, 12, 15, 18, 21, 23, 26, 27]\n",
      "    visited_nodes: [0, 1, 2, 3, 4, 5, 6, 3, 7, 8, 0, 9]\n"
     ]
    }
   ],
   "source": [
    "lemma_graph = nx.Graph()\n",
    "seen_lemma = {}\n",
    "\n",
    "for sent in doc.sents:\n",
    "    link_sentence(doc, sent, lemma_graph, seen_lemma)\n",
    "    #break # only test one sentence\n"
   ]
  },
  {
   "cell_type": "code",
   "execution_count": 34,
   "metadata": {},
   "outputs": [
    {
     "name": "stderr",
     "output_type": "stream",
     "text": [
      "ic| seen_lemma: {('appointment', 'NOUN'): {12, 29},\n",
      "                 ('arrive', 'VERB'): {21},\n",
      "                 ('boy', 'NOUN'): {1, 26},\n",
      "                 ('bus', 'NOUN'): {18, 7},\n",
      "                 ('catch', 'VERB'): {5},\n",
      "                 ('doctor', 'NOUN'): {15},\n",
      "                 ('have', 'VERB'): {10},\n",
      "                 ('miss', 'VERB'): {27},\n",
      "                 ('run', 'VERB'): {3},\n",
      "                 ('time', 'NOUN'): {23}}\n"
     ]
    },
    {
     "data": {
      "text/plain": [
       "{('boy', 'NOUN'): {1, 26},\n",
       " ('run', 'VERB'): {3},\n",
       " ('catch', 'VERB'): {5},\n",
       " ('bus', 'NOUN'): {7, 18},\n",
       " ('have', 'VERB'): {10},\n",
       " ('appointment', 'NOUN'): {12, 29},\n",
       " ('doctor', 'NOUN'): {15},\n",
       " ('arrive', 'VERB'): {21},\n",
       " ('time', 'NOUN'): {23},\n",
       " ('miss', 'VERB'): {27}}"
      ]
     },
     "execution_count": 34,
     "metadata": {},
     "output_type": "execute_result"
    }
   ],
   "source": [
    "ic(seen_lemma)\n"
   ]
  },
  {
   "cell_type": "code",
   "execution_count": 35,
   "metadata": {},
   "outputs": [
    {
     "data": {
      "text/plain": [
       "{0: 'boy',\n",
       " 1: 'run',\n",
       " 2: 'catch',\n",
       " 3: 'bus',\n",
       " 4: 'have',\n",
       " 5: 'appointment',\n",
       " 6: 'doctor',\n",
       " 7: 'arrive',\n",
       " 8: 'time',\n",
       " 9: 'miss'}"
      ]
     },
     "execution_count": 35,
     "metadata": {},
     "output_type": "execute_result"
    }
   ],
   "source": [
    "labels = {}\n",
    "keys = list(seen_lemma.keys())\n",
    "\n",
    "for i in range(len(seen_lemma)):\n",
    "    labels[i] = keys[i][0].lower()\n",
    "\n",
    "labels\n"
   ]
  },
  {
   "cell_type": "code",
   "execution_count": 36,
   "metadata": {},
   "outputs": [
    {
     "data": {
      "image/png": "[encoded data removed]",
      "text/plain": [
       "<Figure size 648x648 with 1 Axes>"
      ]
     },
     "metadata": {},
     "output_type": "display_data"
    }
   ],
   "source": [
    "%matplotlib inline\n",
    "import matplotlib.pyplot as plt\n",
    "\n",
    "fig = plt.figure(figsize=(9, 9))\n",
    "pos = nx.spring_layout(lemma_graph)\n",
    "\n",
    "nx.draw(lemma_graph, pos=pos, with_labels=False, font_weight=\"bold\")\n",
    "nx.draw_networkx_labels(lemma_graph, pos, labels);\n"
   ]
  },
  {
   "cell_type": "code",
   "execution_count": null,
   "metadata": {},
   "outputs": [],
   "source": []
  },
  {
   "cell_type": "code",
   "execution_count": null,
   "metadata": {},
   "outputs": [],
   "source": []
  },
  {
   "cell_type": "markdown",
   "metadata": {},
   "source": [
    "Construct a list of the sentence boundaries with a phrase vector (initialized to empty set) for each..."
   ]
  },
  {
   "cell_type": "code",
   "execution_count": 16,
   "metadata": {},
   "outputs": [
    {
     "data": {
      "text/plain": [
       "[[0, 31, set()]]"
      ]
     },
     "execution_count": 16,
     "metadata": {},
     "output_type": "execute_result"
    }
   ],
   "source": [
    "sent_bounds = [ [s.start, s.end, set([])] for s in doc.sents ]\n",
    "sent_bounds"
   ]
  },
  {
   "cell_type": "markdown",
   "metadata": {},
   "source": [
    "Iterate through the top-ranked phrases, added them to the phrase vector for each sentence..."
   ]
  },
  {
   "cell_type": "code",
   "execution_count": 17,
   "metadata": {
    "scrolled": true,
    "tags": []
   },
   "outputs": [
    {
     "name": "stderr",
     "output_type": "stream",
     "text": [
      "ic| phrase_id: 0, p.text: 'time', p.rank: 0.15927549259446053\n",
      "ic| chunk.start: 23, chunk.end: 24\n",
      "ic| sent_start: 0, chunk.start: 23, chunk.end: 24, sent_end: 31\n",
      "ic| phrase_id: 1\n",
      "    p.text: 'an appointment'\n",
      "    p.rank: 0.10098029179668527\n",
      "ic| chunk.start: 11, chunk.end: 13\n",
      "ic| sent_start: 0, chunk.start: 11, chunk.end: 13, sent_end: 31\n",
      "ic| phrase_id: 2\n",
      "    p.text: 'his appointment'\n",
      "    p.rank: 0.10098029179668527\n",
      "ic| chunk.start: 28, chunk.end: 30\n",
      "ic| sent_start: 0, chunk.start: 28, chunk.end: 30, sent_end: 31\n",
      "ic| phrase_id: 3, p.text: 'the bus', p.rank: 0.09047287141896376\n",
      "ic| chunk.start: 6, chunk.end: 8\n",
      "ic| sent_start: 0, chunk.start: 6, chunk.end: 8, sent_end: 31\n",
      "ic| chunk.start: 17, chunk.end: 19\n",
      "ic| sent_start: 0, chunk.start: 17, chunk.end: 19, sent_end: 31\n"
     ]
    }
   ],
   "source": [
    "limit_phrases = 4\n",
    "\n",
    "phrase_id = 0\n",
    "unit_vector = []\n",
    "\n",
    "for p in doc._.phrases:\n",
    "    ic(phrase_id, p.text, p.rank)\n",
    "    \n",
    "    unit_vector.append(p.rank)\n",
    "    \n",
    "    for chunk in p.chunks:\n",
    "        ic(chunk.start, chunk.end)\n",
    "        \n",
    "        for sent_start, sent_end, sent_vector in sent_bounds:\n",
    "            if chunk.start >= sent_start and chunk.end <= sent_end:\n",
    "                ic(sent_start, chunk.start, chunk.end, sent_end)\n",
    "                sent_vector.add(phrase_id)\n",
    "                break\n",
    "\n",
    "    phrase_id += 1\n",
    "\n",
    "    if phrase_id == limit_phrases:\n",
    "        break"
   ]
  },
  {
   "cell_type": "markdown",
   "metadata": {},
   "source": [
    "Let's take a look at the results..."
   ]
  },
  {
   "cell_type": "code",
   "execution_count": 18,
   "metadata": {},
   "outputs": [
    {
     "data": {
      "text/plain": [
       "[[0, 31, {0, 1, 2, 3}]]"
      ]
     },
     "execution_count": 18,
     "metadata": {},
     "output_type": "execute_result"
    }
   ],
   "source": [
    "sent_bounds"
   ]
  },
  {
   "cell_type": "code",
   "execution_count": 19,
   "metadata": {},
   "outputs": [
    {
     "name": "stderr",
     "output_type": "stream",
     "text": [
      "ic| sent: The boy was running to catch the bus because he had an appointment with the doctor unfortunately the bus did not arrived on time hence the boy missed his appointment.\n"
     ]
    }
   ],
   "source": [
    "for sent in doc.sents:\n",
    "    ic(sent)"
   ]
  },
  {
   "cell_type": "markdown",
   "metadata": {},
   "source": [
    "We also construct a `unit_vector` for all of the phrases, up to the limit requested..."
   ]
  },
  {
   "cell_type": "code",
   "execution_count": 20,
   "metadata": {},
   "outputs": [
    {
     "data": {
      "text/plain": [
       "[0.15927549259446053,\n",
       " 0.10098029179668527,\n",
       " 0.10098029179668527,\n",
       " 0.09047287141896376]"
      ]
     },
     "execution_count": 20,
     "metadata": {},
     "output_type": "execute_result"
    }
   ],
   "source": [
    "unit_vector"
   ]
  },
  {
   "cell_type": "markdown",
   "metadata": {},
   "source": [
    "Then normalized..."
   ]
  },
  {
   "cell_type": "code",
   "execution_count": 21,
   "metadata": {},
   "outputs": [
    {
     "data": {
      "text/plain": [
       "[0.35260645917757466,\n",
       " 0.22355167488200153,\n",
       " 0.22355167488200153,\n",
       " 0.2002901910584222]"
      ]
     },
     "execution_count": 21,
     "metadata": {},
     "output_type": "execute_result"
    }
   ],
   "source": [
    "sum_ranks = sum(unit_vector)\n",
    "\n",
    "unit_vector = [ rank/sum_ranks for rank in unit_vector ]\n",
    "unit_vector"
   ]
  },
  {
   "cell_type": "markdown",
   "metadata": {},
   "source": [
    "Iterate through each sentence, calculating its *euclidean distance* from the unit vector..."
   ]
  },
  {
   "cell_type": "code",
   "execution_count": 22,
   "metadata": {
    "scrolled": true,
    "tags": []
   },
   "outputs": [
    {
     "name": "stderr",
     "output_type": "stream",
     "text": [
      "ic| sent_vector: {0, 1, 2, 3}\n",
      "ic| phrase_id: 0, unit_vector[phrase_id]: 0.35260645917757466\n",
      "ic| phrase_id: 1, unit_vector[phrase_id]: 0.22355167488200153\n",
      "ic| phrase_id: 2, unit_vector[phrase_id]: 0.22355167488200153\n",
      "ic| phrase_id: 3, unit_vector[phrase_id]: 0.2002901910584222\n"
     ]
    }
   ],
   "source": [
    "from math import sqrt\n",
    "\n",
    "sent_rank = {}\n",
    "sent_id = 0\n",
    "\n",
    "for sent_start, sent_end, sent_vector in sent_bounds:\n",
    "    ic(sent_vector)\n",
    "    sum_sq = 0.0\n",
    "    ic\n",
    "    for phrase_id in range(len(unit_vector)):\n",
    "        ic(phrase_id, unit_vector[phrase_id])\n",
    "        \n",
    "        if phrase_id not in sent_vector:\n",
    "            sum_sq += unit_vector[phrase_id]**2.0\n",
    "\n",
    "    sent_rank[sent_id] = sqrt(sum_sq)\n",
    "    sent_id += 1"
   ]
  },
  {
   "cell_type": "code",
   "execution_count": 23,
   "metadata": {},
   "outputs": [
    {
     "name": "stderr",
     "output_type": "stream",
     "text": [
      "ic| sent_rank: {0: 0.0}\n"
     ]
    },
    {
     "data": {
      "text/plain": [
       "{0: 0.0}"
      ]
     },
     "execution_count": 23,
     "metadata": {},
     "output_type": "execute_result"
    }
   ],
   "source": [
    "ic(sent_rank)"
   ]
  },
  {
   "cell_type": "markdown",
   "metadata": {},
   "source": [
    "Sort the sentence indexes in descending order"
   ]
  },
  {
   "cell_type": "code",
   "execution_count": 24,
   "metadata": {},
   "outputs": [
    {
     "data": {
      "text/plain": [
       "[(0, 0.0)]"
      ]
     },
     "execution_count": 24,
     "metadata": {},
     "output_type": "execute_result"
    }
   ],
   "source": [
    "from operator import itemgetter\n",
    "\n",
    "sorted(sent_rank.items(), key=itemgetter(1)) "
   ]
  },
  {
   "cell_type": "markdown",
   "metadata": {},
   "source": [
    "Extract the sentences with the lowest distance, up to the limit requested..."
   ]
  },
  {
   "cell_type": "code",
   "execution_count": 26,
   "metadata": {
    "scrolled": true,
    "tags": []
   },
   "outputs": [
    {
     "name": "stderr",
     "output_type": "stream",
     "text": [
      "ic| sent_id: 0\n",
      "    sent_text[sent_id]: ('The boy was running to catch the bus because he had an appointment with the '\n",
      "                         'doctor unfortunately the bus did not arrived on time hence the boy missed '\n",
      "                         'his appointment.')\n"
     ]
    }
   ],
   "source": [
    "limit_sentences = 2\n",
    "\n",
    "sent_text = {}\n",
    "sent_id = 0\n",
    "\n",
    "for sent in doc.sents:\n",
    "    sent_text[sent_id] = sent.text\n",
    "    sent_id += 1\n",
    "\n",
    "num_sent = 0\n",
    "\n",
    "for sent_id, rank in sorted(sent_rank.items(), key=itemgetter(1)):\n",
    "    ic(sent_id, sent_text[sent_id])\n",
    "    num_sent += 1\n",
    "    \n",
    "    if num_sent == limit_sentences:\n",
    "        break"
   ]
  },
  {
   "cell_type": "code",
   "execution_count": null,
   "metadata": {},
   "outputs": [],
   "source": []
  },
  {
   "cell_type": "code",
   "execution_count": null,
   "metadata": {},
   "outputs": [],
   "source": []
  },
  {
   "cell_type": "code",
   "execution_count": null,
   "metadata": {},
   "outputs": [],
   "source": []
  },
  {
   "cell_type": "code",
   "execution_count": null,
   "metadata": {},
   "outputs": [],
   "source": []
  }
 ],
 "metadata": {
  "kernelspec": {
   "display_name": "Python 3",
   "language": "python",
   "name": "python3"
  },
  "language_info": {
   "codemirror_mode": {
    "name": "ipython",
    "version": 3
   },
   "file_extension": ".py",
   "mimetype": "text/x-python",
   "name": "python",
   "nbconvert_exporter": "python",
   "pygments_lexer": "ipython3",
   "version": "3.7.5"
  }
 },
 "nbformat": 4,
 "nbformat_minor": 4
}
