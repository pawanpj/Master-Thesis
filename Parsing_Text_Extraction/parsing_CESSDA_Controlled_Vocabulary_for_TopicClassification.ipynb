{
 "cells": [
  {
   "cell_type": "code",
   "execution_count": 5,
   "metadata": {},
   "outputs": [],
   "source": [
    "from bs4 import BeautifulSoup"
   ]
  },
  {
   "cell_type": "code",
   "execution_count": 6,
   "metadata": {},
   "outputs": [
    {
     "name": "stderr",
     "output_type": "stream",
     "text": [
      "/home/pawan/.local/lib/python3.7/site-packages/bs4/builder/__init__.py:546: XMLParsedAsHTMLWarning: It looks like you're parsing an XML document using an HTML parser. If this really is an HTML document (maybe it's XHTML?), you can ignore or filter this warning. If it's XML, you should know that using an XML parser will be more reliable. To parse this document as XML, make sure you have the lxml package installed, and pass the keyword argument `features=\"xml\"` into the BeautifulSoup constructor.\n",
      "  XMLParsedAsHTMLWarning.MESSAGE, XMLParsedAsHTMLWarning\n"
     ]
    }
   ],
   "source": [
    "with open('TopicClassification-4.2_de-4.2.1.xml', 'r') as f:\n",
    "    contents = f.read()\n",
    "    soup = BeautifulSoup(contents, 'lxml')"
   ]
  },
  {
   "cell_type": "code",
   "execution_count": 7,
   "metadata": {},
   "outputs": [
    {
     "data": {
      "text/plain": [
       "'/home/pawan/KeyBert'"
      ]
     },
     "execution_count": 7,
     "metadata": {},
     "output_type": "execute_result"
    }
   ],
   "source": [
    "pwd"
   ]
  },
  {
   "cell_type": "code",
   "execution_count": 8,
   "metadata": {},
   "outputs": [],
   "source": [
    "import xml.etree.ElementTree as ET\n",
    "mytree = ET.parse('TopicClassification-4.2_de-4.2.1.xml')\n",
    "myroot = mytree.getroot()"
   ]
  },
  {
   "cell_type": "code",
   "execution_count": 9,
   "metadata": {},
   "outputs": [
    {
     "data": {
      "text/plain": [
       "<Element '{http://www.w3.org/1999/02/22-rdf-syntax-ns#}RDF' at 0x7f2e68786a10>"
      ]
     },
     "execution_count": 9,
     "metadata": {},
     "output_type": "execute_result"
    }
   ],
   "source": [
    "myroot"
   ]
  },
  {
   "cell_type": "code",
   "execution_count": 10,
   "metadata": {},
   "outputs": [
    {
     "name": "stdout",
     "output_type": "stream",
     "text": [
      "{http://www.w3.org/1999/02/22-rdf-syntax-ns#}RDF\n"
     ]
    }
   ],
   "source": [
    "print(myroot.tag)"
   ]
  },
  {
   "cell_type": "code",
   "execution_count": 11,
   "metadata": {},
   "outputs": [
    {
     "data": {
      "text/plain": [
       "<xml.etree.ElementTree.ElementTree at 0x7f2e68789990>"
      ]
     },
     "execution_count": 11,
     "metadata": {},
     "output_type": "execute_result"
    }
   ],
   "source": [
    "mytree"
   ]
  },
  {
   "cell_type": "code",
   "execution_count": 12,
   "metadata": {},
   "outputs": [
    {
     "data": {
      "text/plain": [
       "{}"
      ]
     },
     "execution_count": 12,
     "metadata": {},
     "output_type": "execute_result"
    }
   ],
   "source": [
    "myroot.attrib"
   ]
  },
  {
   "cell_type": "code",
   "execution_count": 13,
   "metadata": {
    "scrolled": true
   },
   "outputs": [
    {
     "name": "stdout",
     "output_type": "stream",
     "text": [
      "<Element '{http://www.w3.org/1999/02/22-rdf-syntax-ns#}Description' at 0x7f2e68786b90>\n",
      "<Element '{http://www.w3.org/1999/02/22-rdf-syntax-ns#}Description' at 0x7f2e68790b30>\n",
      "<Element '{http://www.w3.org/1999/02/22-rdf-syntax-ns#}Description' at 0x7f2e68794050>\n",
      "<Element '{http://www.w3.org/1999/02/22-rdf-syntax-ns#}Description' at 0x7f2e687943b0>\n",
      "<Element '{http://www.w3.org/1999/02/22-rdf-syntax-ns#}Description' at 0x7f2e687946b0>\n",
      "<Element '{http://www.w3.org/1999/02/22-rdf-syntax-ns#}Description' at 0x7f2e68794ad0>\n",
      "<Element '{http://www.w3.org/1999/02/22-rdf-syntax-ns#}Description' at 0x7f2e68794f50>\n",
      "<Element '{http://www.w3.org/1999/02/22-rdf-syntax-ns#}Description' at 0x7f2e6879a290>\n",
      "<Element '{http://www.w3.org/1999/02/22-rdf-syntax-ns#}Description' at 0x7f2e6879a5f0>\n",
      "<Element '{http://www.w3.org/1999/02/22-rdf-syntax-ns#}Description' at 0x7f2e6879a950>\n",
      "<Element '{http://www.w3.org/1999/02/22-rdf-syntax-ns#}Description' at 0x7f2e6879ac50>\n",
      "<Element '{http://www.w3.org/1999/02/22-rdf-syntax-ns#}Description' at 0x7f2e6879afb0>\n",
      "<Element '{http://www.w3.org/1999/02/22-rdf-syntax-ns#}Description' at 0x7f2e687a0470>\n",
      "<Element '{http://www.w3.org/1999/02/22-rdf-syntax-ns#}Description' at 0x7f2e687a07d0>\n",
      "<Element '{http://www.w3.org/1999/02/22-rdf-syntax-ns#}Description' at 0x7f2e687a0a70>\n",
      "<Element '{http://www.w3.org/1999/02/22-rdf-syntax-ns#}Description' at 0x7f2e687a0dd0>\n",
      "<Element '{http://www.w3.org/1999/02/22-rdf-syntax-ns#}Description' at 0x7f2e687a9110>\n",
      "<Element '{http://www.w3.org/1999/02/22-rdf-syntax-ns#}Description' at 0x7f2e68b28a10>\n",
      "<Element '{http://www.w3.org/1999/02/22-rdf-syntax-ns#}Description' at 0x7f2e687a9830>\n",
      "<Element '{http://www.w3.org/1999/02/22-rdf-syntax-ns#}Description' at 0x7f2e687a9b90>\n",
      "<Element '{http://www.w3.org/1999/02/22-rdf-syntax-ns#}Description' at 0x7f2e687a9f50>\n",
      "<Element '{http://www.w3.org/1999/02/22-rdf-syntax-ns#}Description' at 0x7f2e687ae350>\n",
      "<Element '{http://www.w3.org/1999/02/22-rdf-syntax-ns#}Description' at 0x7f2e687ae6b0>\n",
      "<Element '{http://www.w3.org/1999/02/22-rdf-syntax-ns#}Description' at 0x7f2e687ae9b0>\n",
      "<Element '{http://www.w3.org/1999/02/22-rdf-syntax-ns#}Description' at 0x7f2e687aec50>\n",
      "<Element '{http://www.w3.org/1999/02/22-rdf-syntax-ns#}Description' at 0x7f2e687aef50>\n",
      "<Element '{http://www.w3.org/1999/02/22-rdf-syntax-ns#}Description' at 0x7f2e687b32f0>\n",
      "<Element '{http://www.w3.org/1999/02/22-rdf-syntax-ns#}Description' at 0x7f2e687b35f0>\n",
      "<Element '{http://www.w3.org/1999/02/22-rdf-syntax-ns#}Description' at 0x7f2e687b38f0>\n",
      "<Element '{http://www.w3.org/1999/02/22-rdf-syntax-ns#}Description' at 0x7f2e687b3bf0>\n",
      "<Element '{http://www.w3.org/1999/02/22-rdf-syntax-ns#}Description' at 0x7f2e687b3e90>\n",
      "<Element '{http://www.w3.org/1999/02/22-rdf-syntax-ns#}Description' at 0x7f2e687b9290>\n",
      "<Element '{http://www.w3.org/1999/02/22-rdf-syntax-ns#}Description' at 0x7f2e687b95f0>\n",
      "<Element '{http://www.w3.org/1999/02/22-rdf-syntax-ns#}Description' at 0x7f2e687b98f0>\n",
      "<Element '{http://www.w3.org/1999/02/22-rdf-syntax-ns#}Description' at 0x7f2e687b9c50>\n",
      "<Element '{http://www.w3.org/1999/02/22-rdf-syntax-ns#}Description' at 0x7f2e6873f1d0>\n",
      "<Element '{http://www.w3.org/1999/02/22-rdf-syntax-ns#}Description' at 0x7f2e6873f530>\n",
      "<Element '{http://www.w3.org/1999/02/22-rdf-syntax-ns#}Description' at 0x7f2e6873f830>\n",
      "<Element '{http://www.w3.org/1999/02/22-rdf-syntax-ns#}Description' at 0x7f2e6873fb30>\n",
      "<Element '{http://www.w3.org/1999/02/22-rdf-syntax-ns#}Description' at 0x7f2e6873fe90>\n",
      "<Element '{http://www.w3.org/1999/02/22-rdf-syntax-ns#}Description' at 0x7f2e68746170>\n",
      "<Element '{http://www.w3.org/1999/02/22-rdf-syntax-ns#}Description' at 0x7f2e687464d0>\n",
      "<Element '{http://www.w3.org/1999/02/22-rdf-syntax-ns#}Description' at 0x7f2e68746830>\n",
      "<Element '{http://www.w3.org/1999/02/22-rdf-syntax-ns#}Description' at 0x7f2e68746b90>\n",
      "<Element '{http://www.w3.org/1999/02/22-rdf-syntax-ns#}Description' at 0x7f2e68746ef0>\n",
      "<Element '{http://www.w3.org/1999/02/22-rdf-syntax-ns#}Description' at 0x7f2e6874c1d0>\n",
      "<Element '{http://www.w3.org/1999/02/22-rdf-syntax-ns#}Description' at 0x7f2e6874c650>\n",
      "<Element '{http://www.w3.org/1999/02/22-rdf-syntax-ns#}Description' at 0x7f2e6874c9b0>\n",
      "<Element '{http://www.w3.org/1999/02/22-rdf-syntax-ns#}Description' at 0x7f2e6874cc50>\n",
      "<Element '{http://www.w3.org/1999/02/22-rdf-syntax-ns#}Description' at 0x7f2e6874cfb0>\n",
      "<Element '{http://www.w3.org/1999/02/22-rdf-syntax-ns#}Description' at 0x7f2e687543b0>\n",
      "<Element '{http://www.w3.org/1999/02/22-rdf-syntax-ns#}Description' at 0x7f2e687547d0>\n",
      "<Element '{http://www.w3.org/1999/02/22-rdf-syntax-ns#}Description' at 0x7f2e68754ad0>\n",
      "<Element '{http://www.w3.org/1999/02/22-rdf-syntax-ns#}Description' at 0x7f2e68754e30>\n",
      "<Element '{http://www.w3.org/1999/02/22-rdf-syntax-ns#}Description' at 0x7f2e68759170>\n",
      "<Element '{http://www.w3.org/1999/02/22-rdf-syntax-ns#}Description' at 0x7f2e68759470>\n",
      "<Element '{http://www.w3.org/1999/02/22-rdf-syntax-ns#}Description' at 0x7f2e68759950>\n",
      "<Element '{http://www.w3.org/1999/02/22-rdf-syntax-ns#}Description' at 0x7f2e68759cb0>\n",
      "<Element '{http://www.w3.org/1999/02/22-rdf-syntax-ns#}Description' at 0x7f2e68759f50>\n",
      "<Element '{http://www.w3.org/1999/02/22-rdf-syntax-ns#}Description' at 0x7f2e6875e230>\n",
      "<Element '{http://www.w3.org/1999/02/22-rdf-syntax-ns#}Description' at 0x7f2e6875e530>\n",
      "<Element '{http://www.w3.org/1999/02/22-rdf-syntax-ns#}Description' at 0x7f2e6875e830>\n",
      "<Element '{http://www.w3.org/1999/02/22-rdf-syntax-ns#}Description' at 0x7f2e6875ead0>\n",
      "<Element '{http://www.w3.org/1999/02/22-rdf-syntax-ns#}Description' at 0x7f2e6875ed70>\n",
      "<Element '{http://www.w3.org/1999/02/22-rdf-syntax-ns#}Description' at 0x7f2e68767110>\n",
      "<Element '{http://www.w3.org/1999/02/22-rdf-syntax-ns#}Description' at 0x7f2e68767410>\n",
      "<Element '{http://www.w3.org/1999/02/22-rdf-syntax-ns#}Description' at 0x7f2e68767770>\n",
      "<Element '{http://www.w3.org/1999/02/22-rdf-syntax-ns#}Description' at 0x7f2e68767e30>\n",
      "<Element '{http://www.w3.org/1999/02/22-rdf-syntax-ns#}Description' at 0x7f2e6876b170>\n",
      "<Element '{http://www.w3.org/1999/02/22-rdf-syntax-ns#}Description' at 0x7f2e6876b470>\n",
      "<Element '{http://www.w3.org/1999/02/22-rdf-syntax-ns#}Description' at 0x7f2e6876b710>\n",
      "<Element '{http://www.w3.org/1999/02/22-rdf-syntax-ns#}Description' at 0x7f2e6876b9b0>\n",
      "<Element '{http://www.w3.org/1999/02/22-rdf-syntax-ns#}Description' at 0x7f2e6876bc50>\n",
      "<Element '{http://www.w3.org/1999/02/22-rdf-syntax-ns#}Description' at 0x7f2e6876bfb0>\n",
      "<Element '{http://www.w3.org/1999/02/22-rdf-syntax-ns#}Description' at 0x7f2e687742f0>\n",
      "<Element '{http://www.w3.org/1999/02/22-rdf-syntax-ns#}Description' at 0x7f2e687745f0>\n",
      "<Element '{http://www.w3.org/1999/02/22-rdf-syntax-ns#}Description' at 0x7f2e687748f0>\n",
      "<Element '{http://www.w3.org/1999/02/22-rdf-syntax-ns#}Description' at 0x7f2e68774cb0>\n",
      "<Element '{http://www.w3.org/1999/02/22-rdf-syntax-ns#}Description' at 0x7f2e68779050>\n",
      "<Element '{http://www.w3.org/1999/02/22-rdf-syntax-ns#}Description' at 0x7f2e687793b0>\n",
      "<Element '{http://www.w3.org/1999/02/22-rdf-syntax-ns#}Description' at 0x7f2e687796b0>\n",
      "<Element '{http://www.w3.org/1999/02/22-rdf-syntax-ns#}Description' at 0x7f2e68779cb0>\n",
      "<Element '{http://www.w3.org/1999/02/22-rdf-syntax-ns#}Description' at 0x7f2e68779e30>\n",
      "<Element '{http://www.w3.org/1999/02/22-rdf-syntax-ns#}Description' at 0x7f2e692cd110>\n",
      "<Element '{http://www.w3.org/1999/02/22-rdf-syntax-ns#}Description' at 0x7f2e692cd4d0>\n",
      "<Element '{http://www.w3.org/1999/02/22-rdf-syntax-ns#}Description' at 0x7f2e692cd7d0>\n",
      "<Element '{http://www.w3.org/1999/02/22-rdf-syntax-ns#}Description' at 0x7f2e692cdad0>\n",
      "<Element '{http://www.w3.org/1999/02/22-rdf-syntax-ns#}Description' at 0x7f2e692cde30>\n",
      "<Element '{http://www.w3.org/1999/02/22-rdf-syntax-ns#}Description' at 0x7f2e6929f110>\n",
      "<Element '{http://www.w3.org/1999/02/22-rdf-syntax-ns#}Description' at 0x7f2e6929f4d0>\n",
      "<Element '{http://www.w3.org/1999/02/22-rdf-syntax-ns#}Description' at 0x7f2e6929f770>\n",
      "<Element '{http://www.w3.org/1999/02/22-rdf-syntax-ns#}Description' at 0x7f2e6929fb30>\n",
      "<Element '{http://www.w3.org/1999/02/22-rdf-syntax-ns#}Description' at 0x7f2e6929fe30>\n",
      "<Element '{http://www.w3.org/1999/02/22-rdf-syntax-ns#}Description' at 0x7f2e6929b170>\n",
      "<Element '{http://www.w3.org/1999/02/22-rdf-syntax-ns#}Description' at 0x7f2e6929b4d0>\n",
      "<Element '{http://www.w3.org/1999/02/22-rdf-syntax-ns#}Description' at 0x7f2e6929b950>\n"
     ]
    }
   ],
   "source": [
    "for child in myroot:\n",
    "    print(child)"
   ]
  },
  {
   "cell_type": "code",
   "execution_count": 14,
   "metadata": {
    "scrolled": true
   },
   "outputs": [
    {
     "name": "stdout",
     "output_type": "stream",
     "text": [
      "[<Element '{http://www.w3.org/1999/02/22-rdf-syntax-ns#}Description' at 0x7f2e68786b90>, <Element '{http://www.w3.org/1999/02/22-rdf-syntax-ns#}Description' at 0x7f2e68790b30>, <Element '{http://www.w3.org/1999/02/22-rdf-syntax-ns#}Description' at 0x7f2e68794050>, <Element '{http://www.w3.org/1999/02/22-rdf-syntax-ns#}Description' at 0x7f2e687943b0>, <Element '{http://www.w3.org/1999/02/22-rdf-syntax-ns#}Description' at 0x7f2e687946b0>, <Element '{http://www.w3.org/1999/02/22-rdf-syntax-ns#}Description' at 0x7f2e68794ad0>, <Element '{http://www.w3.org/1999/02/22-rdf-syntax-ns#}Description' at 0x7f2e68794f50>, <Element '{http://www.w3.org/1999/02/22-rdf-syntax-ns#}Description' at 0x7f2e6879a290>, <Element '{http://www.w3.org/1999/02/22-rdf-syntax-ns#}Description' at 0x7f2e6879a5f0>, <Element '{http://www.w3.org/1999/02/22-rdf-syntax-ns#}Description' at 0x7f2e6879a950>, <Element '{http://www.w3.org/1999/02/22-rdf-syntax-ns#}Description' at 0x7f2e6879ac50>, <Element '{http://www.w3.org/1999/02/22-rdf-syntax-ns#}Description' at 0x7f2e6879afb0>, <Element '{http://www.w3.org/1999/02/22-rdf-syntax-ns#}Description' at 0x7f2e687a0470>, <Element '{http://www.w3.org/1999/02/22-rdf-syntax-ns#}Description' at 0x7f2e687a07d0>, <Element '{http://www.w3.org/1999/02/22-rdf-syntax-ns#}Description' at 0x7f2e687a0a70>, <Element '{http://www.w3.org/1999/02/22-rdf-syntax-ns#}Description' at 0x7f2e687a0dd0>, <Element '{http://www.w3.org/1999/02/22-rdf-syntax-ns#}Description' at 0x7f2e687a9110>, <Element '{http://www.w3.org/1999/02/22-rdf-syntax-ns#}Description' at 0x7f2e68b28a10>, <Element '{http://www.w3.org/1999/02/22-rdf-syntax-ns#}Description' at 0x7f2e687a9830>, <Element '{http://www.w3.org/1999/02/22-rdf-syntax-ns#}Description' at 0x7f2e687a9b90>, <Element '{http://www.w3.org/1999/02/22-rdf-syntax-ns#}Description' at 0x7f2e687a9f50>, <Element '{http://www.w3.org/1999/02/22-rdf-syntax-ns#}Description' at 0x7f2e687ae350>, <Element '{http://www.w3.org/1999/02/22-rdf-syntax-ns#}Description' at 0x7f2e687ae6b0>, <Element '{http://www.w3.org/1999/02/22-rdf-syntax-ns#}Description' at 0x7f2e687ae9b0>, <Element '{http://www.w3.org/1999/02/22-rdf-syntax-ns#}Description' at 0x7f2e687aec50>, <Element '{http://www.w3.org/1999/02/22-rdf-syntax-ns#}Description' at 0x7f2e687aef50>, <Element '{http://www.w3.org/1999/02/22-rdf-syntax-ns#}Description' at 0x7f2e687b32f0>, <Element '{http://www.w3.org/1999/02/22-rdf-syntax-ns#}Description' at 0x7f2e687b35f0>, <Element '{http://www.w3.org/1999/02/22-rdf-syntax-ns#}Description' at 0x7f2e687b38f0>, <Element '{http://www.w3.org/1999/02/22-rdf-syntax-ns#}Description' at 0x7f2e687b3bf0>, <Element '{http://www.w3.org/1999/02/22-rdf-syntax-ns#}Description' at 0x7f2e687b3e90>, <Element '{http://www.w3.org/1999/02/22-rdf-syntax-ns#}Description' at 0x7f2e687b9290>, <Element '{http://www.w3.org/1999/02/22-rdf-syntax-ns#}Description' at 0x7f2e687b95f0>, <Element '{http://www.w3.org/1999/02/22-rdf-syntax-ns#}Description' at 0x7f2e687b98f0>, <Element '{http://www.w3.org/1999/02/22-rdf-syntax-ns#}Description' at 0x7f2e687b9c50>, <Element '{http://www.w3.org/1999/02/22-rdf-syntax-ns#}Description' at 0x7f2e6873f1d0>, <Element '{http://www.w3.org/1999/02/22-rdf-syntax-ns#}Description' at 0x7f2e6873f530>, <Element '{http://www.w3.org/1999/02/22-rdf-syntax-ns#}Description' at 0x7f2e6873f830>, <Element '{http://www.w3.org/1999/02/22-rdf-syntax-ns#}Description' at 0x7f2e6873fb30>, <Element '{http://www.w3.org/1999/02/22-rdf-syntax-ns#}Description' at 0x7f2e6873fe90>, <Element '{http://www.w3.org/1999/02/22-rdf-syntax-ns#}Description' at 0x7f2e68746170>, <Element '{http://www.w3.org/1999/02/22-rdf-syntax-ns#}Description' at 0x7f2e687464d0>, <Element '{http://www.w3.org/1999/02/22-rdf-syntax-ns#}Description' at 0x7f2e68746830>, <Element '{http://www.w3.org/1999/02/22-rdf-syntax-ns#}Description' at 0x7f2e68746b90>, <Element '{http://www.w3.org/1999/02/22-rdf-syntax-ns#}Description' at 0x7f2e68746ef0>, <Element '{http://www.w3.org/1999/02/22-rdf-syntax-ns#}Description' at 0x7f2e6874c1d0>, <Element '{http://www.w3.org/1999/02/22-rdf-syntax-ns#}Description' at 0x7f2e6874c650>, <Element '{http://www.w3.org/1999/02/22-rdf-syntax-ns#}Description' at 0x7f2e6874c9b0>, <Element '{http://www.w3.org/1999/02/22-rdf-syntax-ns#}Description' at 0x7f2e6874cc50>, <Element '{http://www.w3.org/1999/02/22-rdf-syntax-ns#}Description' at 0x7f2e6874cfb0>, <Element '{http://www.w3.org/1999/02/22-rdf-syntax-ns#}Description' at 0x7f2e687543b0>, <Element '{http://www.w3.org/1999/02/22-rdf-syntax-ns#}Description' at 0x7f2e687547d0>, <Element '{http://www.w3.org/1999/02/22-rdf-syntax-ns#}Description' at 0x7f2e68754ad0>, <Element '{http://www.w3.org/1999/02/22-rdf-syntax-ns#}Description' at 0x7f2e68754e30>, <Element '{http://www.w3.org/1999/02/22-rdf-syntax-ns#}Description' at 0x7f2e68759170>, <Element '{http://www.w3.org/1999/02/22-rdf-syntax-ns#}Description' at 0x7f2e68759470>, <Element '{http://www.w3.org/1999/02/22-rdf-syntax-ns#}Description' at 0x7f2e68759950>, <Element '{http://www.w3.org/1999/02/22-rdf-syntax-ns#}Description' at 0x7f2e68759cb0>, <Element '{http://www.w3.org/1999/02/22-rdf-syntax-ns#}Description' at 0x7f2e68759f50>, <Element '{http://www.w3.org/1999/02/22-rdf-syntax-ns#}Description' at 0x7f2e6875e230>, <Element '{http://www.w3.org/1999/02/22-rdf-syntax-ns#}Description' at 0x7f2e6875e530>, <Element '{http://www.w3.org/1999/02/22-rdf-syntax-ns#}Description' at 0x7f2e6875e830>, <Element '{http://www.w3.org/1999/02/22-rdf-syntax-ns#}Description' at 0x7f2e6875ead0>, <Element '{http://www.w3.org/1999/02/22-rdf-syntax-ns#}Description' at 0x7f2e6875ed70>, <Element '{http://www.w3.org/1999/02/22-rdf-syntax-ns#}Description' at 0x7f2e68767110>, <Element '{http://www.w3.org/1999/02/22-rdf-syntax-ns#}Description' at 0x7f2e68767410>, <Element '{http://www.w3.org/1999/02/22-rdf-syntax-ns#}Description' at 0x7f2e68767770>, <Element '{http://www.w3.org/1999/02/22-rdf-syntax-ns#}Description' at 0x7f2e68767e30>, <Element '{http://www.w3.org/1999/02/22-rdf-syntax-ns#}Description' at 0x7f2e6876b170>, <Element '{http://www.w3.org/1999/02/22-rdf-syntax-ns#}Description' at 0x7f2e6876b470>, <Element '{http://www.w3.org/1999/02/22-rdf-syntax-ns#}Description' at 0x7f2e6876b710>, <Element '{http://www.w3.org/1999/02/22-rdf-syntax-ns#}Description' at 0x7f2e6876b9b0>, <Element '{http://www.w3.org/1999/02/22-rdf-syntax-ns#}Description' at 0x7f2e6876bc50>, <Element '{http://www.w3.org/1999/02/22-rdf-syntax-ns#}Description' at 0x7f2e6876bfb0>, <Element '{http://www.w3.org/1999/02/22-rdf-syntax-ns#}Description' at 0x7f2e687742f0>, <Element '{http://www.w3.org/1999/02/22-rdf-syntax-ns#}Description' at 0x7f2e687745f0>, <Element '{http://www.w3.org/1999/02/22-rdf-syntax-ns#}Description' at 0x7f2e687748f0>, <Element '{http://www.w3.org/1999/02/22-rdf-syntax-ns#}Description' at 0x7f2e68774cb0>, <Element '{http://www.w3.org/1999/02/22-rdf-syntax-ns#}Description' at 0x7f2e68779050>, <Element '{http://www.w3.org/1999/02/22-rdf-syntax-ns#}Description' at 0x7f2e687793b0>, <Element '{http://www.w3.org/1999/02/22-rdf-syntax-ns#}Description' at 0x7f2e687796b0>, <Element '{http://www.w3.org/1999/02/22-rdf-syntax-ns#}Description' at 0x7f2e68779cb0>, <Element '{http://www.w3.org/1999/02/22-rdf-syntax-ns#}Description' at 0x7f2e68779e30>, <Element '{http://www.w3.org/1999/02/22-rdf-syntax-ns#}Description' at 0x7f2e692cd110>, <Element '{http://www.w3.org/1999/02/22-rdf-syntax-ns#}Description' at 0x7f2e692cd4d0>, <Element '{http://www.w3.org/1999/02/22-rdf-syntax-ns#}Description' at 0x7f2e692cd7d0>, <Element '{http://www.w3.org/1999/02/22-rdf-syntax-ns#}Description' at 0x7f2e692cdad0>, <Element '{http://www.w3.org/1999/02/22-rdf-syntax-ns#}Description' at 0x7f2e692cde30>, <Element '{http://www.w3.org/1999/02/22-rdf-syntax-ns#}Description' at 0x7f2e6929f110>, <Element '{http://www.w3.org/1999/02/22-rdf-syntax-ns#}Description' at 0x7f2e6929f4d0>, <Element '{http://www.w3.org/1999/02/22-rdf-syntax-ns#}Description' at 0x7f2e6929f770>, <Element '{http://www.w3.org/1999/02/22-rdf-syntax-ns#}Description' at 0x7f2e6929fb30>, <Element '{http://www.w3.org/1999/02/22-rdf-syntax-ns#}Description' at 0x7f2e6929fe30>, <Element '{http://www.w3.org/1999/02/22-rdf-syntax-ns#}Description' at 0x7f2e6929b170>, <Element '{http://www.w3.org/1999/02/22-rdf-syntax-ns#}Description' at 0x7f2e6929b4d0>, <Element '{http://www.w3.org/1999/02/22-rdf-syntax-ns#}Description' at 0x7f2e6929b950>]\n"
     ]
    }
   ],
   "source": [
    "print(myroot.findall('{http://www.w3.org/1999/02/22-rdf-syntax-ns#}Description'))"
   ]
  },
  {
   "cell_type": "code",
   "execution_count": 15,
   "metadata": {},
   "outputs": [
    {
     "name": "stdout",
     "output_type": "stream",
     "text": [
      "{http://www.w3.org/1999/02/22-rdf-syntax-ns#}Description {'{http://www.w3.org/1999/02/22-rdf-syntax-ns#}about': 'https://vocabularies.cessda.eu/vocabulary/TopicClassification?v=4.2'}\n",
      "{http://www.w3.org/1999/02/22-rdf-syntax-ns#}Description {'{http://www.w3.org/1999/02/22-rdf-syntax-ns#}about': 'https://vocabularies.cessda.eu/vocabulary/TopicClassification?v=4.2#Demography'}\n",
      "{http://www.w3.org/1999/02/22-rdf-syntax-ns#}Description {'{http://www.w3.org/1999/02/22-rdf-syntax-ns#}about': 'https://vocabularies.cessda.eu/vocabulary/TopicClassification?v=4.2#Demography.Censuses'}\n",
      "{http://www.w3.org/1999/02/22-rdf-syntax-ns#}Description {'{http://www.w3.org/1999/02/22-rdf-syntax-ns#}about': 'https://vocabularies.cessda.eu/vocabulary/TopicClassification?v=4.2#Demography.Migration'}\n",
      "{http://www.w3.org/1999/02/22-rdf-syntax-ns#}Description {'{http://www.w3.org/1999/02/22-rdf-syntax-ns#}about': 'https://vocabularies.cessda.eu/vocabulary/TopicClassification?v=4.2#Demography.MorbidityAndMortality'}\n",
      "{http://www.w3.org/1999/02/22-rdf-syntax-ns#}Description {'{http://www.w3.org/1999/02/22-rdf-syntax-ns#}about': 'https://vocabularies.cessda.eu/vocabulary/TopicClassification?v=4.2#Economics'}\n",
      "{http://www.w3.org/1999/02/22-rdf-syntax-ns#}Description {'{http://www.w3.org/1999/02/22-rdf-syntax-ns#}about': 'https://vocabularies.cessda.eu/vocabulary/TopicClassification?v=4.2#Economics.ConsumptionAndConsumerBehaviour'}\n",
      "{http://www.w3.org/1999/02/22-rdf-syntax-ns#}Description {'{http://www.w3.org/1999/02/22-rdf-syntax-ns#}about': 'https://vocabularies.cessda.eu/vocabulary/TopicClassification?v=4.2#Economics.EconomicConditionsAndIndicators'}\n",
      "{http://www.w3.org/1999/02/22-rdf-syntax-ns#}Description {'{http://www.w3.org/1999/02/22-rdf-syntax-ns#}about': 'https://vocabularies.cessda.eu/vocabulary/TopicClassification?v=4.2#Economics.EconomicPolicyPublicExpenditureAndRevenue'}\n",
      "{http://www.w3.org/1999/02/22-rdf-syntax-ns#}Description {'{http://www.w3.org/1999/02/22-rdf-syntax-ns#}about': 'https://vocabularies.cessda.eu/vocabulary/TopicClassification?v=4.2#Economics.EconomicSystemsAndDevelopment'}\n",
      "{http://www.w3.org/1999/02/22-rdf-syntax-ns#}Description {'{http://www.w3.org/1999/02/22-rdf-syntax-ns#}about': 'https://vocabularies.cessda.eu/vocabulary/TopicClassification?v=4.2#Economics.IncomePropertyAndInvestmentSaving'}\n",
      "{http://www.w3.org/1999/02/22-rdf-syntax-ns#}Description {'{http://www.w3.org/1999/02/22-rdf-syntax-ns#}about': 'https://vocabularies.cessda.eu/vocabulary/TopicClassification?v=4.2#Education'}\n",
      "{http://www.w3.org/1999/02/22-rdf-syntax-ns#}Description {'{http://www.w3.org/1999/02/22-rdf-syntax-ns#}about': 'https://vocabularies.cessda.eu/vocabulary/TopicClassification?v=4.2#Education.CompulsoryAndPreschoolEducation'}\n",
      "{http://www.w3.org/1999/02/22-rdf-syntax-ns#}Description {'{http://www.w3.org/1999/02/22-rdf-syntax-ns#}about': 'https://vocabularies.cessda.eu/vocabulary/TopicClassification?v=4.2#Education.EducationalPolicy'}\n",
      "{http://www.w3.org/1999/02/22-rdf-syntax-ns#}Description {'{http://www.w3.org/1999/02/22-rdf-syntax-ns#}about': 'https://vocabularies.cessda.eu/vocabulary/TopicClassification?v=4.2#Education.HigherAndFurtherEducation'}\n",
      "{http://www.w3.org/1999/02/22-rdf-syntax-ns#}Description {'{http://www.w3.org/1999/02/22-rdf-syntax-ns#}about': 'https://vocabularies.cessda.eu/vocabulary/TopicClassification?v=4.2#Education.LifelongContinuingEducation'}\n",
      "{http://www.w3.org/1999/02/22-rdf-syntax-ns#}Description {'{http://www.w3.org/1999/02/22-rdf-syntax-ns#}about': 'https://vocabularies.cessda.eu/vocabulary/TopicClassification?v=4.2#Education.VocationalEducationAndTraining'}\n",
      "{http://www.w3.org/1999/02/22-rdf-syntax-ns#}Description {'{http://www.w3.org/1999/02/22-rdf-syntax-ns#}about': 'https://vocabularies.cessda.eu/vocabulary/TopicClassification?v=4.2#Health'}\n",
      "{http://www.w3.org/1999/02/22-rdf-syntax-ns#}Description {'{http://www.w3.org/1999/02/22-rdf-syntax-ns#}about': 'https://vocabularies.cessda.eu/vocabulary/TopicClassification?v=4.2#Health.DietAndNutrition'}\n",
      "{http://www.w3.org/1999/02/22-rdf-syntax-ns#}Description {'{http://www.w3.org/1999/02/22-rdf-syntax-ns#}about': 'https://vocabularies.cessda.eu/vocabulary/TopicClassification?v=4.2#Health.DrugAbuseAlcoholAndSmoking'}\n",
      "{http://www.w3.org/1999/02/22-rdf-syntax-ns#}Description {'{http://www.w3.org/1999/02/22-rdf-syntax-ns#}about': 'https://vocabularies.cessda.eu/vocabulary/TopicClassification?v=4.2#Health.GeneralHealthAndWellbeing'}\n",
      "{http://www.w3.org/1999/02/22-rdf-syntax-ns#}Description {'{http://www.w3.org/1999/02/22-rdf-syntax-ns#}about': 'https://vocabularies.cessda.eu/vocabulary/TopicClassification?v=4.2#Health.HealthCareServicesAndPolicies'}\n",
      "{http://www.w3.org/1999/02/22-rdf-syntax-ns#}Description {'{http://www.w3.org/1999/02/22-rdf-syntax-ns#}about': 'https://vocabularies.cessda.eu/vocabulary/TopicClassification?v=4.2#Health.MedicationAndTreatment'}\n",
      "{http://www.w3.org/1999/02/22-rdf-syntax-ns#}Description {'{http://www.w3.org/1999/02/22-rdf-syntax-ns#}about': 'https://vocabularies.cessda.eu/vocabulary/TopicClassification?v=4.2#Health.OccupationalHealth'}\n",
      "{http://www.w3.org/1999/02/22-rdf-syntax-ns#}Description {'{http://www.w3.org/1999/02/22-rdf-syntax-ns#}about': 'https://vocabularies.cessda.eu/vocabulary/TopicClassification?v=4.2#Health.PhysicalFitnessAndExercise'}\n",
      "{http://www.w3.org/1999/02/22-rdf-syntax-ns#}Description {'{http://www.w3.org/1999/02/22-rdf-syntax-ns#}about': 'https://vocabularies.cessda.eu/vocabulary/TopicClassification?v=4.2#Health.PublicHealth'}\n",
      "{http://www.w3.org/1999/02/22-rdf-syntax-ns#}Description {'{http://www.w3.org/1999/02/22-rdf-syntax-ns#}about': 'https://vocabularies.cessda.eu/vocabulary/TopicClassification?v=4.2#Health.ReproductiveHealth'}\n",
      "{http://www.w3.org/1999/02/22-rdf-syntax-ns#}Description {'{http://www.w3.org/1999/02/22-rdf-syntax-ns#}about': 'https://vocabularies.cessda.eu/vocabulary/TopicClassification?v=4.2#Health.SignsAndSymptomsPathologicalConditions'}\n",
      "{http://www.w3.org/1999/02/22-rdf-syntax-ns#}Description {'{http://www.w3.org/1999/02/22-rdf-syntax-ns#}about': 'https://vocabularies.cessda.eu/vocabulary/TopicClassification?v=4.2#Health.SpecificDiseasesDisordersAndMedicalConditions'}\n",
      "{http://www.w3.org/1999/02/22-rdf-syntax-ns#}Description {'{http://www.w3.org/1999/02/22-rdf-syntax-ns#}about': 'https://vocabularies.cessda.eu/vocabulary/TopicClassification?v=4.2#Health.WoundsAndInjuries'}\n",
      "{http://www.w3.org/1999/02/22-rdf-syntax-ns#}Description {'{http://www.w3.org/1999/02/22-rdf-syntax-ns#}about': 'https://vocabularies.cessda.eu/vocabulary/TopicClassification?v=4.2#History'}\n",
      "{http://www.w3.org/1999/02/22-rdf-syntax-ns#}Description {'{http://www.w3.org/1999/02/22-rdf-syntax-ns#}about': 'https://vocabularies.cessda.eu/vocabulary/TopicClassification?v=4.2#HousingAndLandUse'}\n",
      "{http://www.w3.org/1999/02/22-rdf-syntax-ns#}Description {'{http://www.w3.org/1999/02/22-rdf-syntax-ns#}about': 'https://vocabularies.cessda.eu/vocabulary/TopicClassification?v=4.2#HousingAndLandUse.Housing'}\n",
      "{http://www.w3.org/1999/02/22-rdf-syntax-ns#}Description {'{http://www.w3.org/1999/02/22-rdf-syntax-ns#}about': 'https://vocabularies.cessda.eu/vocabulary/TopicClassification?v=4.2#HousingAndLandUse.LandUseAndPlanning'}\n",
      "{http://www.w3.org/1999/02/22-rdf-syntax-ns#}Description {'{http://www.w3.org/1999/02/22-rdf-syntax-ns#}about': 'https://vocabularies.cessda.eu/vocabulary/TopicClassification?v=4.2#LabourAndEmployment'}\n",
      "{http://www.w3.org/1999/02/22-rdf-syntax-ns#}Description {'{http://www.w3.org/1999/02/22-rdf-syntax-ns#}about': 'https://vocabularies.cessda.eu/vocabulary/TopicClassification?v=4.2#LabourAndEmployment.EmployeeTraining'}\n",
      "{http://www.w3.org/1999/02/22-rdf-syntax-ns#}Description {'{http://www.w3.org/1999/02/22-rdf-syntax-ns#}about': 'https://vocabularies.cessda.eu/vocabulary/TopicClassification?v=4.2#LabourAndEmployment.Employment'}\n",
      "{http://www.w3.org/1999/02/22-rdf-syntax-ns#}Description {'{http://www.w3.org/1999/02/22-rdf-syntax-ns#}about': 'https://vocabularies.cessda.eu/vocabulary/TopicClassification?v=4.2#LabourAndEmployment.LabourAndEmploymentPolicy'}\n",
      "{http://www.w3.org/1999/02/22-rdf-syntax-ns#}Description {'{http://www.w3.org/1999/02/22-rdf-syntax-ns#}about': 'https://vocabularies.cessda.eu/vocabulary/TopicClassification?v=4.2#LabourAndEmployment.LabourRelationsConflict'}\n",
      "{http://www.w3.org/1999/02/22-rdf-syntax-ns#}Description {'{http://www.w3.org/1999/02/22-rdf-syntax-ns#}about': 'https://vocabularies.cessda.eu/vocabulary/TopicClassification?v=4.2#LabourAndEmployment.Retirement'}\n",
      "{http://www.w3.org/1999/02/22-rdf-syntax-ns#}Description {'{http://www.w3.org/1999/02/22-rdf-syntax-ns#}about': 'https://vocabularies.cessda.eu/vocabulary/TopicClassification?v=4.2#LabourAndEmployment.Unemployment'}\n",
      "{http://www.w3.org/1999/02/22-rdf-syntax-ns#}Description {'{http://www.w3.org/1999/02/22-rdf-syntax-ns#}about': 'https://vocabularies.cessda.eu/vocabulary/TopicClassification?v=4.2#LabourAndEmployment.WorkingConditions'}\n",
      "{http://www.w3.org/1999/02/22-rdf-syntax-ns#}Description {'{http://www.w3.org/1999/02/22-rdf-syntax-ns#}about': 'https://vocabularies.cessda.eu/vocabulary/TopicClassification?v=4.2#LawCrimeAndLegalSystems'}\n",
      "{http://www.w3.org/1999/02/22-rdf-syntax-ns#}Description {'{http://www.w3.org/1999/02/22-rdf-syntax-ns#}about': 'https://vocabularies.cessda.eu/vocabulary/TopicClassification?v=4.2#LawCrimeAndLegalSystems.CrimeAndLawEnforcement'}\n",
      "{http://www.w3.org/1999/02/22-rdf-syntax-ns#}Description {'{http://www.w3.org/1999/02/22-rdf-syntax-ns#}about': 'https://vocabularies.cessda.eu/vocabulary/TopicClassification?v=4.2#LawCrimeAndLegalSystems.LegislationAndLegalSystems'}\n",
      "{http://www.w3.org/1999/02/22-rdf-syntax-ns#}Description {'{http://www.w3.org/1999/02/22-rdf-syntax-ns#}about': 'https://vocabularies.cessda.eu/vocabulary/TopicClassification?v=4.2#MediaCommunicationAndLanguage'}\n",
      "{http://www.w3.org/1999/02/22-rdf-syntax-ns#}Description {'{http://www.w3.org/1999/02/22-rdf-syntax-ns#}about': 'https://vocabularies.cessda.eu/vocabulary/TopicClassification?v=4.2#MediaCommunicationAndLanguage.InformationSociety'}\n",
      "{http://www.w3.org/1999/02/22-rdf-syntax-ns#}Description {'{http://www.w3.org/1999/02/22-rdf-syntax-ns#}about': 'https://vocabularies.cessda.eu/vocabulary/TopicClassification?v=4.2#MediaCommunicationAndLanguage.LanguageAndLinguistics'}\n",
      "{http://www.w3.org/1999/02/22-rdf-syntax-ns#}Description {'{http://www.w3.org/1999/02/22-rdf-syntax-ns#}about': 'https://vocabularies.cessda.eu/vocabulary/TopicClassification?v=4.2#MediaCommunicationAndLanguage.Media'}\n",
      "{http://www.w3.org/1999/02/22-rdf-syntax-ns#}Description {'{http://www.w3.org/1999/02/22-rdf-syntax-ns#}about': 'https://vocabularies.cessda.eu/vocabulary/TopicClassification?v=4.2#MediaCommunicationAndLanguage.PublicRelations'}\n",
      "{http://www.w3.org/1999/02/22-rdf-syntax-ns#}Description {'{http://www.w3.org/1999/02/22-rdf-syntax-ns#}about': 'https://vocabularies.cessda.eu/vocabulary/TopicClassification?v=4.2#NaturalEnvironment'}\n",
      "{http://www.w3.org/1999/02/22-rdf-syntax-ns#}Description {'{http://www.w3.org/1999/02/22-rdf-syntax-ns#}about': 'https://vocabularies.cessda.eu/vocabulary/TopicClassification?v=4.2#NaturalEnvironment.EnergyAndNaturalResources'}\n",
      "{http://www.w3.org/1999/02/22-rdf-syntax-ns#}Description {'{http://www.w3.org/1999/02/22-rdf-syntax-ns#}about': 'https://vocabularies.cessda.eu/vocabulary/TopicClassification?v=4.2#NaturalEnvironment.EnvironmentAndConservation'}\n",
      "{http://www.w3.org/1999/02/22-rdf-syntax-ns#}Description {'{http://www.w3.org/1999/02/22-rdf-syntax-ns#}about': 'https://vocabularies.cessda.eu/vocabulary/TopicClassification?v=4.2#NaturalEnvironment.NaturalLandscapes'}\n",
      "{http://www.w3.org/1999/02/22-rdf-syntax-ns#}Description {'{http://www.w3.org/1999/02/22-rdf-syntax-ns#}about': 'https://vocabularies.cessda.eu/vocabulary/TopicClassification?v=4.2#NaturalEnvironment.PlantsAndAnimals'}\n",
      "{http://www.w3.org/1999/02/22-rdf-syntax-ns#}Description {'{http://www.w3.org/1999/02/22-rdf-syntax-ns#}about': 'https://vocabularies.cessda.eu/vocabulary/TopicClassification?v=4.2#Politics'}\n",
      "{http://www.w3.org/1999/02/22-rdf-syntax-ns#}Description {'{http://www.w3.org/1999/02/22-rdf-syntax-ns#}about': 'https://vocabularies.cessda.eu/vocabulary/TopicClassification?v=4.2#Politics.ConflictSecurityAndPeace'}\n",
      "{http://www.w3.org/1999/02/22-rdf-syntax-ns#}Description {'{http://www.w3.org/1999/02/22-rdf-syntax-ns#}about': 'https://vocabularies.cessda.eu/vocabulary/TopicClassification?v=4.2#Politics.Elections'}\n",
      "{http://www.w3.org/1999/02/22-rdf-syntax-ns#}Description {'{http://www.w3.org/1999/02/22-rdf-syntax-ns#}about': 'https://vocabularies.cessda.eu/vocabulary/TopicClassification?v=4.2#Politics.GovernmentPoliticalSystemsAndOrganisations'}\n",
      "{http://www.w3.org/1999/02/22-rdf-syntax-ns#}Description {'{http://www.w3.org/1999/02/22-rdf-syntax-ns#}about': 'https://vocabularies.cessda.eu/vocabulary/TopicClassification?v=4.2#Politics.InternationalPoliticsAndOrganisations'}\n",
      "{http://www.w3.org/1999/02/22-rdf-syntax-ns#}Description {'{http://www.w3.org/1999/02/22-rdf-syntax-ns#}about': 'https://vocabularies.cessda.eu/vocabulary/TopicClassification?v=4.2#Politics.PoliticalBehaviourAndAttitudes'}\n",
      "{http://www.w3.org/1999/02/22-rdf-syntax-ns#}Description {'{http://www.w3.org/1999/02/22-rdf-syntax-ns#}about': 'https://vocabularies.cessda.eu/vocabulary/TopicClassification?v=4.2#Politics.PoliticalIdeology'}\n",
      "{http://www.w3.org/1999/02/22-rdf-syntax-ns#}Description {'{http://www.w3.org/1999/02/22-rdf-syntax-ns#}about': 'https://vocabularies.cessda.eu/vocabulary/TopicClassification?v=4.2#Psychology'}\n",
      "{http://www.w3.org/1999/02/22-rdf-syntax-ns#}Description {'{http://www.w3.org/1999/02/22-rdf-syntax-ns#}about': 'https://vocabularies.cessda.eu/vocabulary/TopicClassification?v=4.2#ScienceAndTechnology'}\n",
      "{http://www.w3.org/1999/02/22-rdf-syntax-ns#}Description {'{http://www.w3.org/1999/02/22-rdf-syntax-ns#}about': 'https://vocabularies.cessda.eu/vocabulary/TopicClassification?v=4.2#ScienceAndTechnology.Biotechnology'}\n",
      "{http://www.w3.org/1999/02/22-rdf-syntax-ns#}Description {'{http://www.w3.org/1999/02/22-rdf-syntax-ns#}about': 'https://vocabularies.cessda.eu/vocabulary/TopicClassification?v=4.2#ScienceAndTechnology.InformationTechnology'}\n",
      "{http://www.w3.org/1999/02/22-rdf-syntax-ns#}Description {'{http://www.w3.org/1999/02/22-rdf-syntax-ns#}about': 'https://vocabularies.cessda.eu/vocabulary/TopicClassification?v=4.2#SocialStratificationAndGroupings'}\n",
      "{http://www.w3.org/1999/02/22-rdf-syntax-ns#}Description {'{http://www.w3.org/1999/02/22-rdf-syntax-ns#}about': 'https://vocabularies.cessda.eu/vocabulary/TopicClassification?v=4.2#SocialStratificationAndGroupings.Children'}\n",
      "{http://www.w3.org/1999/02/22-rdf-syntax-ns#}Description {'{http://www.w3.org/1999/02/22-rdf-syntax-ns#}about': 'https://vocabularies.cessda.eu/vocabulary/TopicClassification?v=4.2#SocialStratificationAndGroupings.Elderly'}\n",
      "{http://www.w3.org/1999/02/22-rdf-syntax-ns#}Description {'{http://www.w3.org/1999/02/22-rdf-syntax-ns#}about': 'https://vocabularies.cessda.eu/vocabulary/TopicClassification?v=4.2#SocialStratificationAndGroupings.ElitesAndLeadership'}\n",
      "{http://www.w3.org/1999/02/22-rdf-syntax-ns#}Description {'{http://www.w3.org/1999/02/22-rdf-syntax-ns#}about': 'https://vocabularies.cessda.eu/vocabulary/TopicClassification?v=4.2#SocialStratificationAndGroupings.EqualityInequalityAndSocialExclusion'}\n",
      "{http://www.w3.org/1999/02/22-rdf-syntax-ns#}Description {'{http://www.w3.org/1999/02/22-rdf-syntax-ns#}about': 'https://vocabularies.cessda.eu/vocabulary/TopicClassification?v=4.2#SocialStratificationAndGroupings.FamilyLifeAndMarriage'}\n",
      "{http://www.w3.org/1999/02/22-rdf-syntax-ns#}Description {'{http://www.w3.org/1999/02/22-rdf-syntax-ns#}about': 'https://vocabularies.cessda.eu/vocabulary/TopicClassification?v=4.2#SocialStratificationAndGroupings.GenderAndGenderRoles'}\n",
      "{http://www.w3.org/1999/02/22-rdf-syntax-ns#}Description {'{http://www.w3.org/1999/02/22-rdf-syntax-ns#}about': 'https://vocabularies.cessda.eu/vocabulary/TopicClassification?v=4.2#SocialStratificationAndGroupings.Minorities'}\n",
      "{http://www.w3.org/1999/02/22-rdf-syntax-ns#}Description {'{http://www.w3.org/1999/02/22-rdf-syntax-ns#}about': 'https://vocabularies.cessda.eu/vocabulary/TopicClassification?v=4.2#SocialStratificationAndGroupings.SocialAndOccupationalMobility'}\n",
      "{http://www.w3.org/1999/02/22-rdf-syntax-ns#}Description {'{http://www.w3.org/1999/02/22-rdf-syntax-ns#}about': 'https://vocabularies.cessda.eu/vocabulary/TopicClassification?v=4.2#SocialStratificationAndGroupings.Youth'}\n",
      "{http://www.w3.org/1999/02/22-rdf-syntax-ns#}Description {'{http://www.w3.org/1999/02/22-rdf-syntax-ns#}about': 'https://vocabularies.cessda.eu/vocabulary/TopicClassification?v=4.2#SocialWelfarePolicyAndSystems'}\n",
      "{http://www.w3.org/1999/02/22-rdf-syntax-ns#}Description {'{http://www.w3.org/1999/02/22-rdf-syntax-ns#}about': 'https://vocabularies.cessda.eu/vocabulary/TopicClassification?v=4.2#SocialWelfarePolicyAndSystems.SocialWelfarePolicy'}\n",
      "{http://www.w3.org/1999/02/22-rdf-syntax-ns#}Description {'{http://www.w3.org/1999/02/22-rdf-syntax-ns#}about': 'https://vocabularies.cessda.eu/vocabulary/TopicClassification?v=4.2#SocialWelfarePolicyAndSystems.SocialWelfareSystemsStructures'}\n",
      "{http://www.w3.org/1999/02/22-rdf-syntax-ns#}Description {'{http://www.w3.org/1999/02/22-rdf-syntax-ns#}about': 'https://vocabularies.cessda.eu/vocabulary/TopicClassification?v=4.2#SocialWelfarePolicyAndSystems.SpecificSocialServicesUseAndAvailability'}\n",
      "{http://www.w3.org/1999/02/22-rdf-syntax-ns#}Description {'{http://www.w3.org/1999/02/22-rdf-syntax-ns#}about': 'https://vocabularies.cessda.eu/vocabulary/TopicClassification?v=4.2#SocietyAndCulture'}\n",
      "{http://www.w3.org/1999/02/22-rdf-syntax-ns#}Description {'{http://www.w3.org/1999/02/22-rdf-syntax-ns#}about': 'https://vocabularies.cessda.eu/vocabulary/TopicClassification?v=4.2#SocietyAndCulture.CommunityUrbanAndRuralLife'}\n",
      "{http://www.w3.org/1999/02/22-rdf-syntax-ns#}Description {'{http://www.w3.org/1999/02/22-rdf-syntax-ns#}about': 'https://vocabularies.cessda.eu/vocabulary/TopicClassification?v=4.2#SocietyAndCulture.CulturalActivitiesAndParticipation'}\n",
      "{http://www.w3.org/1999/02/22-rdf-syntax-ns#}Description {'{http://www.w3.org/1999/02/22-rdf-syntax-ns#}about': 'https://vocabularies.cessda.eu/vocabulary/TopicClassification?v=4.2#SocietyAndCulture.CulturalAndNationalIdentity'}\n",
      "{http://www.w3.org/1999/02/22-rdf-syntax-ns#}Description {'{http://www.w3.org/1999/02/22-rdf-syntax-ns#}about': 'https://vocabularies.cessda.eu/vocabulary/TopicClassification?v=4.2#SocietyAndCulture.LeisureTourismAndSport'}\n",
      "{http://www.w3.org/1999/02/22-rdf-syntax-ns#}Description {'{http://www.w3.org/1999/02/22-rdf-syntax-ns#}about': 'https://vocabularies.cessda.eu/vocabulary/TopicClassification?v=4.2#SocietyAndCulture.ReligionAndValues'}\n",
      "{http://www.w3.org/1999/02/22-rdf-syntax-ns#}Description {'{http://www.w3.org/1999/02/22-rdf-syntax-ns#}about': 'https://vocabularies.cessda.eu/vocabulary/TopicClassification?v=4.2#SocietyAndCulture.SocialBehaviourAndAttitudes'}\n",
      "{http://www.w3.org/1999/02/22-rdf-syntax-ns#}Description {'{http://www.w3.org/1999/02/22-rdf-syntax-ns#}about': 'https://vocabularies.cessda.eu/vocabulary/TopicClassification?v=4.2#SocietyAndCulture.SocialChange'}\n",
      "{http://www.w3.org/1999/02/22-rdf-syntax-ns#}Description {'{http://www.w3.org/1999/02/22-rdf-syntax-ns#}about': 'https://vocabularies.cessda.eu/vocabulary/TopicClassification?v=4.2#SocietyAndCulture.SocialConditionsAndIndicators'}\n",
      "{http://www.w3.org/1999/02/22-rdf-syntax-ns#}Description {'{http://www.w3.org/1999/02/22-rdf-syntax-ns#}about': 'https://vocabularies.cessda.eu/vocabulary/TopicClassification?v=4.2#SocietyAndCulture.TimeUse'}\n",
      "{http://www.w3.org/1999/02/22-rdf-syntax-ns#}Description {'{http://www.w3.org/1999/02/22-rdf-syntax-ns#}about': 'https://vocabularies.cessda.eu/vocabulary/TopicClassification?v=4.2#TradeIndustryAndMarkets'}\n",
      "{http://www.w3.org/1999/02/22-rdf-syntax-ns#}Description {'{http://www.w3.org/1999/02/22-rdf-syntax-ns#}about': 'https://vocabularies.cessda.eu/vocabulary/TopicClassification?v=4.2#TradeIndustryAndMarkets.AgricultureAndRuralIndustry'}\n",
      "{http://www.w3.org/1999/02/22-rdf-syntax-ns#}Description {'{http://www.w3.org/1999/02/22-rdf-syntax-ns#}about': 'https://vocabularies.cessda.eu/vocabulary/TopicClassification?v=4.2#TradeIndustryAndMarkets.BusinessIndustrialManagementAndOrganisation'}\n",
      "{http://www.w3.org/1999/02/22-rdf-syntax-ns#}Description {'{http://www.w3.org/1999/02/22-rdf-syntax-ns#}about': 'https://vocabularies.cessda.eu/vocabulary/TopicClassification?v=4.2#TradeIndustryAndMarkets.ForeignTrade'}\n",
      "{http://www.w3.org/1999/02/22-rdf-syntax-ns#}Description {'{http://www.w3.org/1999/02/22-rdf-syntax-ns#}about': 'https://vocabularies.cessda.eu/vocabulary/TopicClassification?v=4.2#TransportAndTravel'}\n",
      "{http://www.w3.org/1999/02/22-rdf-syntax-ns#}Description {'{http://www.w3.org/1999/02/22-rdf-syntax-ns#}about': 'https://vocabularies.cessda.eu/vocabulary/TopicClassification?v=4.2#Other'}\n"
     ]
    }
   ],
   "source": [
    "links=myroot.findall('{http://www.w3.org/1999/02/22-rdf-syntax-ns#}Description')\n",
    "for child in links:\n",
    "     print(child.tag, child.attrib)"
   ]
  },
  {
   "cell_type": "code",
   "execution_count": 16,
   "metadata": {
    "scrolled": true
   },
   "outputs": [
    {
     "data": {
      "text/plain": [
       "[<Element '{http://www.w3.org/1999/02/22-rdf-syntax-ns#}Description' at 0x7f2e68786b90>,\n",
       " <Element '{http://www.w3.org/1999/02/22-rdf-syntax-ns#}Description' at 0x7f2e68790b30>,\n",
       " <Element '{http://www.w3.org/1999/02/22-rdf-syntax-ns#}Description' at 0x7f2e68794050>,\n",
       " <Element '{http://www.w3.org/1999/02/22-rdf-syntax-ns#}Description' at 0x7f2e687943b0>,\n",
       " <Element '{http://www.w3.org/1999/02/22-rdf-syntax-ns#}Description' at 0x7f2e687946b0>,\n",
       " <Element '{http://www.w3.org/1999/02/22-rdf-syntax-ns#}Description' at 0x7f2e68794ad0>,\n",
       " <Element '{http://www.w3.org/1999/02/22-rdf-syntax-ns#}Description' at 0x7f2e68794f50>,\n",
       " <Element '{http://www.w3.org/1999/02/22-rdf-syntax-ns#}Description' at 0x7f2e6879a290>,\n",
       " <Element '{http://www.w3.org/1999/02/22-rdf-syntax-ns#}Description' at 0x7f2e6879a5f0>,\n",
       " <Element '{http://www.w3.org/1999/02/22-rdf-syntax-ns#}Description' at 0x7f2e6879a950>,\n",
       " <Element '{http://www.w3.org/1999/02/22-rdf-syntax-ns#}Description' at 0x7f2e6879ac50>,\n",
       " <Element '{http://www.w3.org/1999/02/22-rdf-syntax-ns#}Description' at 0x7f2e6879afb0>,\n",
       " <Element '{http://www.w3.org/1999/02/22-rdf-syntax-ns#}Description' at 0x7f2e687a0470>,\n",
       " <Element '{http://www.w3.org/1999/02/22-rdf-syntax-ns#}Description' at 0x7f2e687a07d0>,\n",
       " <Element '{http://www.w3.org/1999/02/22-rdf-syntax-ns#}Description' at 0x7f2e687a0a70>,\n",
       " <Element '{http://www.w3.org/1999/02/22-rdf-syntax-ns#}Description' at 0x7f2e687a0dd0>,\n",
       " <Element '{http://www.w3.org/1999/02/22-rdf-syntax-ns#}Description' at 0x7f2e687a9110>,\n",
       " <Element '{http://www.w3.org/1999/02/22-rdf-syntax-ns#}Description' at 0x7f2e68b28a10>,\n",
       " <Element '{http://www.w3.org/1999/02/22-rdf-syntax-ns#}Description' at 0x7f2e687a9830>,\n",
       " <Element '{http://www.w3.org/1999/02/22-rdf-syntax-ns#}Description' at 0x7f2e687a9b90>,\n",
       " <Element '{http://www.w3.org/1999/02/22-rdf-syntax-ns#}Description' at 0x7f2e687a9f50>,\n",
       " <Element '{http://www.w3.org/1999/02/22-rdf-syntax-ns#}Description' at 0x7f2e687ae350>,\n",
       " <Element '{http://www.w3.org/1999/02/22-rdf-syntax-ns#}Description' at 0x7f2e687ae6b0>,\n",
       " <Element '{http://www.w3.org/1999/02/22-rdf-syntax-ns#}Description' at 0x7f2e687ae9b0>,\n",
       " <Element '{http://www.w3.org/1999/02/22-rdf-syntax-ns#}Description' at 0x7f2e687aec50>,\n",
       " <Element '{http://www.w3.org/1999/02/22-rdf-syntax-ns#}Description' at 0x7f2e687aef50>,\n",
       " <Element '{http://www.w3.org/1999/02/22-rdf-syntax-ns#}Description' at 0x7f2e687b32f0>,\n",
       " <Element '{http://www.w3.org/1999/02/22-rdf-syntax-ns#}Description' at 0x7f2e687b35f0>,\n",
       " <Element '{http://www.w3.org/1999/02/22-rdf-syntax-ns#}Description' at 0x7f2e687b38f0>,\n",
       " <Element '{http://www.w3.org/1999/02/22-rdf-syntax-ns#}Description' at 0x7f2e687b3bf0>,\n",
       " <Element '{http://www.w3.org/1999/02/22-rdf-syntax-ns#}Description' at 0x7f2e687b3e90>,\n",
       " <Element '{http://www.w3.org/1999/02/22-rdf-syntax-ns#}Description' at 0x7f2e687b9290>,\n",
       " <Element '{http://www.w3.org/1999/02/22-rdf-syntax-ns#}Description' at 0x7f2e687b95f0>,\n",
       " <Element '{http://www.w3.org/1999/02/22-rdf-syntax-ns#}Description' at 0x7f2e687b98f0>,\n",
       " <Element '{http://www.w3.org/1999/02/22-rdf-syntax-ns#}Description' at 0x7f2e687b9c50>,\n",
       " <Element '{http://www.w3.org/1999/02/22-rdf-syntax-ns#}Description' at 0x7f2e6873f1d0>,\n",
       " <Element '{http://www.w3.org/1999/02/22-rdf-syntax-ns#}Description' at 0x7f2e6873f530>,\n",
       " <Element '{http://www.w3.org/1999/02/22-rdf-syntax-ns#}Description' at 0x7f2e6873f830>,\n",
       " <Element '{http://www.w3.org/1999/02/22-rdf-syntax-ns#}Description' at 0x7f2e6873fb30>,\n",
       " <Element '{http://www.w3.org/1999/02/22-rdf-syntax-ns#}Description' at 0x7f2e6873fe90>,\n",
       " <Element '{http://www.w3.org/1999/02/22-rdf-syntax-ns#}Description' at 0x7f2e68746170>,\n",
       " <Element '{http://www.w3.org/1999/02/22-rdf-syntax-ns#}Description' at 0x7f2e687464d0>,\n",
       " <Element '{http://www.w3.org/1999/02/22-rdf-syntax-ns#}Description' at 0x7f2e68746830>,\n",
       " <Element '{http://www.w3.org/1999/02/22-rdf-syntax-ns#}Description' at 0x7f2e68746b90>,\n",
       " <Element '{http://www.w3.org/1999/02/22-rdf-syntax-ns#}Description' at 0x7f2e68746ef0>,\n",
       " <Element '{http://www.w3.org/1999/02/22-rdf-syntax-ns#}Description' at 0x7f2e6874c1d0>,\n",
       " <Element '{http://www.w3.org/1999/02/22-rdf-syntax-ns#}Description' at 0x7f2e6874c650>,\n",
       " <Element '{http://www.w3.org/1999/02/22-rdf-syntax-ns#}Description' at 0x7f2e6874c9b0>,\n",
       " <Element '{http://www.w3.org/1999/02/22-rdf-syntax-ns#}Description' at 0x7f2e6874cc50>,\n",
       " <Element '{http://www.w3.org/1999/02/22-rdf-syntax-ns#}Description' at 0x7f2e6874cfb0>,\n",
       " <Element '{http://www.w3.org/1999/02/22-rdf-syntax-ns#}Description' at 0x7f2e687543b0>,\n",
       " <Element '{http://www.w3.org/1999/02/22-rdf-syntax-ns#}Description' at 0x7f2e687547d0>,\n",
       " <Element '{http://www.w3.org/1999/02/22-rdf-syntax-ns#}Description' at 0x7f2e68754ad0>,\n",
       " <Element '{http://www.w3.org/1999/02/22-rdf-syntax-ns#}Description' at 0x7f2e68754e30>,\n",
       " <Element '{http://www.w3.org/1999/02/22-rdf-syntax-ns#}Description' at 0x7f2e68759170>,\n",
       " <Element '{http://www.w3.org/1999/02/22-rdf-syntax-ns#}Description' at 0x7f2e68759470>,\n",
       " <Element '{http://www.w3.org/1999/02/22-rdf-syntax-ns#}Description' at 0x7f2e68759950>,\n",
       " <Element '{http://www.w3.org/1999/02/22-rdf-syntax-ns#}Description' at 0x7f2e68759cb0>,\n",
       " <Element '{http://www.w3.org/1999/02/22-rdf-syntax-ns#}Description' at 0x7f2e68759f50>,\n",
       " <Element '{http://www.w3.org/1999/02/22-rdf-syntax-ns#}Description' at 0x7f2e6875e230>,\n",
       " <Element '{http://www.w3.org/1999/02/22-rdf-syntax-ns#}Description' at 0x7f2e6875e530>,\n",
       " <Element '{http://www.w3.org/1999/02/22-rdf-syntax-ns#}Description' at 0x7f2e6875e830>,\n",
       " <Element '{http://www.w3.org/1999/02/22-rdf-syntax-ns#}Description' at 0x7f2e6875ead0>,\n",
       " <Element '{http://www.w3.org/1999/02/22-rdf-syntax-ns#}Description' at 0x7f2e6875ed70>,\n",
       " <Element '{http://www.w3.org/1999/02/22-rdf-syntax-ns#}Description' at 0x7f2e68767110>,\n",
       " <Element '{http://www.w3.org/1999/02/22-rdf-syntax-ns#}Description' at 0x7f2e68767410>,\n",
       " <Element '{http://www.w3.org/1999/02/22-rdf-syntax-ns#}Description' at 0x7f2e68767770>,\n",
       " <Element '{http://www.w3.org/1999/02/22-rdf-syntax-ns#}Description' at 0x7f2e68767e30>,\n",
       " <Element '{http://www.w3.org/1999/02/22-rdf-syntax-ns#}Description' at 0x7f2e6876b170>,\n",
       " <Element '{http://www.w3.org/1999/02/22-rdf-syntax-ns#}Description' at 0x7f2e6876b470>,\n",
       " <Element '{http://www.w3.org/1999/02/22-rdf-syntax-ns#}Description' at 0x7f2e6876b710>,\n",
       " <Element '{http://www.w3.org/1999/02/22-rdf-syntax-ns#}Description' at 0x7f2e6876b9b0>,\n",
       " <Element '{http://www.w3.org/1999/02/22-rdf-syntax-ns#}Description' at 0x7f2e6876bc50>,\n",
       " <Element '{http://www.w3.org/1999/02/22-rdf-syntax-ns#}Description' at 0x7f2e6876bfb0>,\n",
       " <Element '{http://www.w3.org/1999/02/22-rdf-syntax-ns#}Description' at 0x7f2e687742f0>,\n",
       " <Element '{http://www.w3.org/1999/02/22-rdf-syntax-ns#}Description' at 0x7f2e687745f0>,\n",
       " <Element '{http://www.w3.org/1999/02/22-rdf-syntax-ns#}Description' at 0x7f2e687748f0>,\n",
       " <Element '{http://www.w3.org/1999/02/22-rdf-syntax-ns#}Description' at 0x7f2e68774cb0>,\n",
       " <Element '{http://www.w3.org/1999/02/22-rdf-syntax-ns#}Description' at 0x7f2e68779050>,\n",
       " <Element '{http://www.w3.org/1999/02/22-rdf-syntax-ns#}Description' at 0x7f2e687793b0>,\n",
       " <Element '{http://www.w3.org/1999/02/22-rdf-syntax-ns#}Description' at 0x7f2e687796b0>,\n",
       " <Element '{http://www.w3.org/1999/02/22-rdf-syntax-ns#}Description' at 0x7f2e68779cb0>,\n",
       " <Element '{http://www.w3.org/1999/02/22-rdf-syntax-ns#}Description' at 0x7f2e68779e30>,\n",
       " <Element '{http://www.w3.org/1999/02/22-rdf-syntax-ns#}Description' at 0x7f2e692cd110>,\n",
       " <Element '{http://www.w3.org/1999/02/22-rdf-syntax-ns#}Description' at 0x7f2e692cd4d0>,\n",
       " <Element '{http://www.w3.org/1999/02/22-rdf-syntax-ns#}Description' at 0x7f2e692cd7d0>,\n",
       " <Element '{http://www.w3.org/1999/02/22-rdf-syntax-ns#}Description' at 0x7f2e692cdad0>,\n",
       " <Element '{http://www.w3.org/1999/02/22-rdf-syntax-ns#}Description' at 0x7f2e692cde30>,\n",
       " <Element '{http://www.w3.org/1999/02/22-rdf-syntax-ns#}Description' at 0x7f2e6929f110>,\n",
       " <Element '{http://www.w3.org/1999/02/22-rdf-syntax-ns#}Description' at 0x7f2e6929f4d0>,\n",
       " <Element '{http://www.w3.org/1999/02/22-rdf-syntax-ns#}Description' at 0x7f2e6929f770>,\n",
       " <Element '{http://www.w3.org/1999/02/22-rdf-syntax-ns#}Description' at 0x7f2e6929fb30>,\n",
       " <Element '{http://www.w3.org/1999/02/22-rdf-syntax-ns#}Description' at 0x7f2e6929fe30>,\n",
       " <Element '{http://www.w3.org/1999/02/22-rdf-syntax-ns#}Description' at 0x7f2e6929b170>,\n",
       " <Element '{http://www.w3.org/1999/02/22-rdf-syntax-ns#}Description' at 0x7f2e6929b4d0>,\n",
       " <Element '{http://www.w3.org/1999/02/22-rdf-syntax-ns#}Description' at 0x7f2e6929b950>]"
      ]
     },
     "execution_count": 16,
     "metadata": {},
     "output_type": "execute_result"
    }
   ],
   "source": [
    "links"
   ]
  },
  {
   "cell_type": "code",
   "execution_count": 17,
   "metadata": {
    "scrolled": true
   },
   "outputs": [
    {
     "name": "stdout",
     "output_type": "stream",
     "text": [
      "{'{http://www.w3.org/1999/02/22-rdf-syntax-ns#}resource': 'http://www.w3.org/2004/02/skos/core#ConceptScheme'}\n",
      "{'{http://www.w3.org/1999/02/22-rdf-syntax-ns#}resource': 'http://www.w3.org/2004/02/skos/core#Concept'}\n",
      "{'{http://www.w3.org/1999/02/22-rdf-syntax-ns#}resource': 'http://www.w3.org/2004/02/skos/core#Concept'}\n",
      "{'{http://www.w3.org/1999/02/22-rdf-syntax-ns#}resource': 'http://www.w3.org/2004/02/skos/core#Concept'}\n",
      "{'{http://www.w3.org/1999/02/22-rdf-syntax-ns#}resource': 'http://www.w3.org/2004/02/skos/core#Concept'}\n",
      "{'{http://www.w3.org/1999/02/22-rdf-syntax-ns#}resource': 'http://www.w3.org/2004/02/skos/core#Concept'}\n",
      "{'{http://www.w3.org/1999/02/22-rdf-syntax-ns#}resource': 'http://www.w3.org/2004/02/skos/core#Concept'}\n",
      "{'{http://www.w3.org/1999/02/22-rdf-syntax-ns#}resource': 'http://www.w3.org/2004/02/skos/core#Concept'}\n",
      "{'{http://www.w3.org/1999/02/22-rdf-syntax-ns#}resource': 'http://www.w3.org/2004/02/skos/core#Concept'}\n",
      "{'{http://www.w3.org/1999/02/22-rdf-syntax-ns#}resource': 'http://www.w3.org/2004/02/skos/core#Concept'}\n",
      "{'{http://www.w3.org/1999/02/22-rdf-syntax-ns#}resource': 'http://www.w3.org/2004/02/skos/core#Concept'}\n",
      "{'{http://www.w3.org/1999/02/22-rdf-syntax-ns#}resource': 'http://www.w3.org/2004/02/skos/core#Concept'}\n",
      "{'{http://www.w3.org/1999/02/22-rdf-syntax-ns#}resource': 'http://www.w3.org/2004/02/skos/core#Concept'}\n",
      "{'{http://www.w3.org/1999/02/22-rdf-syntax-ns#}resource': 'http://www.w3.org/2004/02/skos/core#Concept'}\n",
      "{'{http://www.w3.org/1999/02/22-rdf-syntax-ns#}resource': 'http://www.w3.org/2004/02/skos/core#Concept'}\n",
      "{'{http://www.w3.org/1999/02/22-rdf-syntax-ns#}resource': 'http://www.w3.org/2004/02/skos/core#Concept'}\n",
      "{'{http://www.w3.org/1999/02/22-rdf-syntax-ns#}resource': 'http://www.w3.org/2004/02/skos/core#Concept'}\n",
      "{'{http://www.w3.org/1999/02/22-rdf-syntax-ns#}resource': 'http://www.w3.org/2004/02/skos/core#Concept'}\n",
      "{'{http://www.w3.org/1999/02/22-rdf-syntax-ns#}resource': 'http://www.w3.org/2004/02/skos/core#Concept'}\n",
      "{'{http://www.w3.org/1999/02/22-rdf-syntax-ns#}resource': 'http://www.w3.org/2004/02/skos/core#Concept'}\n",
      "{'{http://www.w3.org/1999/02/22-rdf-syntax-ns#}resource': 'http://www.w3.org/2004/02/skos/core#Concept'}\n",
      "{'{http://www.w3.org/1999/02/22-rdf-syntax-ns#}resource': 'http://www.w3.org/2004/02/skos/core#Concept'}\n",
      "{'{http://www.w3.org/1999/02/22-rdf-syntax-ns#}resource': 'http://www.w3.org/2004/02/skos/core#Concept'}\n",
      "{'{http://www.w3.org/1999/02/22-rdf-syntax-ns#}resource': 'http://www.w3.org/2004/02/skos/core#Concept'}\n",
      "{'{http://www.w3.org/1999/02/22-rdf-syntax-ns#}resource': 'http://www.w3.org/2004/02/skos/core#Concept'}\n",
      "{'{http://www.w3.org/1999/02/22-rdf-syntax-ns#}resource': 'http://www.w3.org/2004/02/skos/core#Concept'}\n",
      "{'{http://www.w3.org/1999/02/22-rdf-syntax-ns#}resource': 'http://www.w3.org/2004/02/skos/core#Concept'}\n",
      "{'{http://www.w3.org/1999/02/22-rdf-syntax-ns#}resource': 'http://www.w3.org/2004/02/skos/core#Concept'}\n",
      "{'{http://www.w3.org/1999/02/22-rdf-syntax-ns#}resource': 'http://www.w3.org/2004/02/skos/core#Concept'}\n",
      "{'{http://www.w3.org/1999/02/22-rdf-syntax-ns#}resource': 'http://www.w3.org/2004/02/skos/core#Concept'}\n",
      "{'{http://www.w3.org/1999/02/22-rdf-syntax-ns#}resource': 'http://www.w3.org/2004/02/skos/core#Concept'}\n",
      "{'{http://www.w3.org/1999/02/22-rdf-syntax-ns#}resource': 'http://www.w3.org/2004/02/skos/core#Concept'}\n",
      "{'{http://www.w3.org/1999/02/22-rdf-syntax-ns#}resource': 'http://www.w3.org/2004/02/skos/core#Concept'}\n",
      "{'{http://www.w3.org/1999/02/22-rdf-syntax-ns#}resource': 'http://www.w3.org/2004/02/skos/core#Concept'}\n",
      "{'{http://www.w3.org/1999/02/22-rdf-syntax-ns#}resource': 'http://www.w3.org/2004/02/skos/core#Concept'}\n",
      "{'{http://www.w3.org/1999/02/22-rdf-syntax-ns#}resource': 'http://www.w3.org/2004/02/skos/core#Concept'}\n",
      "{'{http://www.w3.org/1999/02/22-rdf-syntax-ns#}resource': 'http://www.w3.org/2004/02/skos/core#Concept'}\n",
      "{'{http://www.w3.org/1999/02/22-rdf-syntax-ns#}resource': 'http://www.w3.org/2004/02/skos/core#Concept'}\n",
      "{'{http://www.w3.org/1999/02/22-rdf-syntax-ns#}resource': 'http://www.w3.org/2004/02/skos/core#Concept'}\n",
      "{'{http://www.w3.org/1999/02/22-rdf-syntax-ns#}resource': 'http://www.w3.org/2004/02/skos/core#Concept'}\n",
      "{'{http://www.w3.org/1999/02/22-rdf-syntax-ns#}resource': 'http://www.w3.org/2004/02/skos/core#Concept'}\n",
      "{'{http://www.w3.org/1999/02/22-rdf-syntax-ns#}resource': 'http://www.w3.org/2004/02/skos/core#Concept'}\n",
      "{'{http://www.w3.org/1999/02/22-rdf-syntax-ns#}resource': 'http://www.w3.org/2004/02/skos/core#Concept'}\n",
      "{'{http://www.w3.org/1999/02/22-rdf-syntax-ns#}resource': 'http://www.w3.org/2004/02/skos/core#Concept'}\n",
      "{'{http://www.w3.org/1999/02/22-rdf-syntax-ns#}resource': 'http://www.w3.org/2004/02/skos/core#Concept'}\n",
      "{'{http://www.w3.org/1999/02/22-rdf-syntax-ns#}resource': 'http://www.w3.org/2004/02/skos/core#Concept'}\n",
      "{'{http://www.w3.org/1999/02/22-rdf-syntax-ns#}resource': 'http://www.w3.org/2004/02/skos/core#Concept'}\n",
      "{'{http://www.w3.org/1999/02/22-rdf-syntax-ns#}resource': 'http://www.w3.org/2004/02/skos/core#Concept'}\n",
      "{'{http://www.w3.org/1999/02/22-rdf-syntax-ns#}resource': 'http://www.w3.org/2004/02/skos/core#Concept'}\n",
      "{'{http://www.w3.org/1999/02/22-rdf-syntax-ns#}resource': 'http://www.w3.org/2004/02/skos/core#Concept'}\n",
      "{'{http://www.w3.org/1999/02/22-rdf-syntax-ns#}resource': 'http://www.w3.org/2004/02/skos/core#Concept'}\n",
      "{'{http://www.w3.org/1999/02/22-rdf-syntax-ns#}resource': 'http://www.w3.org/2004/02/skos/core#Concept'}\n",
      "{'{http://www.w3.org/1999/02/22-rdf-syntax-ns#}resource': 'http://www.w3.org/2004/02/skos/core#Concept'}\n",
      "{'{http://www.w3.org/1999/02/22-rdf-syntax-ns#}resource': 'http://www.w3.org/2004/02/skos/core#Concept'}\n",
      "{'{http://www.w3.org/1999/02/22-rdf-syntax-ns#}resource': 'http://www.w3.org/2004/02/skos/core#Concept'}\n",
      "{'{http://www.w3.org/1999/02/22-rdf-syntax-ns#}resource': 'http://www.w3.org/2004/02/skos/core#Concept'}\n",
      "{'{http://www.w3.org/1999/02/22-rdf-syntax-ns#}resource': 'http://www.w3.org/2004/02/skos/core#Concept'}\n",
      "{'{http://www.w3.org/1999/02/22-rdf-syntax-ns#}resource': 'http://www.w3.org/2004/02/skos/core#Concept'}\n",
      "{'{http://www.w3.org/1999/02/22-rdf-syntax-ns#}resource': 'http://www.w3.org/2004/02/skos/core#Concept'}\n",
      "{'{http://www.w3.org/1999/02/22-rdf-syntax-ns#}resource': 'http://www.w3.org/2004/02/skos/core#Concept'}\n",
      "{'{http://www.w3.org/1999/02/22-rdf-syntax-ns#}resource': 'http://www.w3.org/2004/02/skos/core#Concept'}\n",
      "{'{http://www.w3.org/1999/02/22-rdf-syntax-ns#}resource': 'http://www.w3.org/2004/02/skos/core#Concept'}\n",
      "{'{http://www.w3.org/1999/02/22-rdf-syntax-ns#}resource': 'http://www.w3.org/2004/02/skos/core#Concept'}\n",
      "{'{http://www.w3.org/1999/02/22-rdf-syntax-ns#}resource': 'http://www.w3.org/2004/02/skos/core#Concept'}\n",
      "{'{http://www.w3.org/1999/02/22-rdf-syntax-ns#}resource': 'http://www.w3.org/2004/02/skos/core#Concept'}\n",
      "{'{http://www.w3.org/1999/02/22-rdf-syntax-ns#}resource': 'http://www.w3.org/2004/02/skos/core#Concept'}\n",
      "{'{http://www.w3.org/1999/02/22-rdf-syntax-ns#}resource': 'http://www.w3.org/2004/02/skos/core#Concept'}\n",
      "{'{http://www.w3.org/1999/02/22-rdf-syntax-ns#}resource': 'http://www.w3.org/2004/02/skos/core#Concept'}\n",
      "{'{http://www.w3.org/1999/02/22-rdf-syntax-ns#}resource': 'http://www.w3.org/2004/02/skos/core#Concept'}\n",
      "{'{http://www.w3.org/1999/02/22-rdf-syntax-ns#}resource': 'http://www.w3.org/2004/02/skos/core#Concept'}\n",
      "{'{http://www.w3.org/1999/02/22-rdf-syntax-ns#}resource': 'http://www.w3.org/2004/02/skos/core#Concept'}\n",
      "{'{http://www.w3.org/1999/02/22-rdf-syntax-ns#}resource': 'http://www.w3.org/2004/02/skos/core#Concept'}\n",
      "{'{http://www.w3.org/1999/02/22-rdf-syntax-ns#}resource': 'http://www.w3.org/2004/02/skos/core#Concept'}\n",
      "{'{http://www.w3.org/1999/02/22-rdf-syntax-ns#}resource': 'http://www.w3.org/2004/02/skos/core#Concept'}\n",
      "{'{http://www.w3.org/1999/02/22-rdf-syntax-ns#}resource': 'http://www.w3.org/2004/02/skos/core#Concept'}\n",
      "{'{http://www.w3.org/1999/02/22-rdf-syntax-ns#}resource': 'http://www.w3.org/2004/02/skos/core#Concept'}\n",
      "{'{http://www.w3.org/1999/02/22-rdf-syntax-ns#}resource': 'http://www.w3.org/2004/02/skos/core#Concept'}\n",
      "{'{http://www.w3.org/1999/02/22-rdf-syntax-ns#}resource': 'http://www.w3.org/2004/02/skos/core#Concept'}\n",
      "{'{http://www.w3.org/1999/02/22-rdf-syntax-ns#}resource': 'http://www.w3.org/2004/02/skos/core#Concept'}\n",
      "{'{http://www.w3.org/1999/02/22-rdf-syntax-ns#}resource': 'http://www.w3.org/2004/02/skos/core#Concept'}\n",
      "{'{http://www.w3.org/1999/02/22-rdf-syntax-ns#}resource': 'http://www.w3.org/2004/02/skos/core#Concept'}\n",
      "{'{http://www.w3.org/1999/02/22-rdf-syntax-ns#}resource': 'http://www.w3.org/2004/02/skos/core#Concept'}\n",
      "{'{http://www.w3.org/1999/02/22-rdf-syntax-ns#}resource': 'http://www.w3.org/2004/02/skos/core#Concept'}\n",
      "{'{http://www.w3.org/1999/02/22-rdf-syntax-ns#}resource': 'http://www.w3.org/2004/02/skos/core#Concept'}\n",
      "{'{http://www.w3.org/1999/02/22-rdf-syntax-ns#}resource': 'http://www.w3.org/2004/02/skos/core#Concept'}\n",
      "{'{http://www.w3.org/1999/02/22-rdf-syntax-ns#}resource': 'http://www.w3.org/2004/02/skos/core#Concept'}\n",
      "{'{http://www.w3.org/1999/02/22-rdf-syntax-ns#}resource': 'http://www.w3.org/2004/02/skos/core#Concept'}\n",
      "{'{http://www.w3.org/1999/02/22-rdf-syntax-ns#}resource': 'http://www.w3.org/2004/02/skos/core#Concept'}\n",
      "{'{http://www.w3.org/1999/02/22-rdf-syntax-ns#}resource': 'http://www.w3.org/2004/02/skos/core#Concept'}\n",
      "{'{http://www.w3.org/1999/02/22-rdf-syntax-ns#}resource': 'http://www.w3.org/2004/02/skos/core#Concept'}\n",
      "{'{http://www.w3.org/1999/02/22-rdf-syntax-ns#}resource': 'http://www.w3.org/2004/02/skos/core#Concept'}\n",
      "{'{http://www.w3.org/1999/02/22-rdf-syntax-ns#}resource': 'http://www.w3.org/2004/02/skos/core#Concept'}\n",
      "{'{http://www.w3.org/1999/02/22-rdf-syntax-ns#}resource': 'http://www.w3.org/2004/02/skos/core#Concept'}\n",
      "{'{http://www.w3.org/1999/02/22-rdf-syntax-ns#}resource': 'http://www.w3.org/2004/02/skos/core#Concept'}\n",
      "{'{http://www.w3.org/1999/02/22-rdf-syntax-ns#}resource': 'http://www.w3.org/2004/02/skos/core#Concept'}\n",
      "{'{http://www.w3.org/1999/02/22-rdf-syntax-ns#}resource': 'http://www.w3.org/2004/02/skos/core#Concept'}\n"
     ]
    }
   ],
   "source": [
    "for tags in links:\n",
    "    print(tags[0].attrib)"
   ]
  },
  {
   "cell_type": "code",
   "execution_count": 18,
   "metadata": {},
   "outputs": [
    {
     "name": "stdout",
     "output_type": "stream",
     "text": [
      "<Element '{http://www.w3.org/1999/02/22-rdf-syntax-ns#}Description' at 0x7f2e68790b30>\n",
      "<Element '{http://www.w3.org/1999/02/22-rdf-syntax-ns#}type' at 0x7f2e68790bf0>\n",
      "<Element '{http://www.w3.org/2004/02/skos/core#}inScheme' at 0x7f2e68790cb0>\n",
      "<Element '{http://www.w3.org/2004/02/skos/core#}notation' at 0x7f2e68790d10>\n",
      "<Element '{http://www.w3.org/2004/02/skos/core#}prefLabel' at 0x7f2e68790dd0>\n",
      "<Element '{http://www.w3.org/2004/02/skos/core#}definition' at 0x7f2e68790e30>\n",
      "<Element '{http://www.w3.org/2004/02/skos/core#}narrower' at 0x7f2e68790ef0>\n",
      "<Element '{http://www.w3.org/2004/02/skos/core#}narrower' at 0x7f2e68790f50>\n",
      "<Element '{http://www.w3.org/2004/02/skos/core#}narrower' at 0x7f2e68790fb0>\n"
     ]
    }
   ],
   "source": [
    "list_links = []\n",
    "for tags in links[1].iter():\n",
    "    list_links.append(tags)\n",
    "    print(tags)"
   ]
  },
  {
   "cell_type": "code",
   "execution_count": 19,
   "metadata": {},
   "outputs": [
    {
     "data": {
      "text/plain": [
       "[<Element '{http://www.w3.org/1999/02/22-rdf-syntax-ns#}Description' at 0x7f2e68790b30>,\n",
       " <Element '{http://www.w3.org/1999/02/22-rdf-syntax-ns#}type' at 0x7f2e68790bf0>,\n",
       " <Element '{http://www.w3.org/2004/02/skos/core#}inScheme' at 0x7f2e68790cb0>,\n",
       " <Element '{http://www.w3.org/2004/02/skos/core#}notation' at 0x7f2e68790d10>,\n",
       " <Element '{http://www.w3.org/2004/02/skos/core#}prefLabel' at 0x7f2e68790dd0>,\n",
       " <Element '{http://www.w3.org/2004/02/skos/core#}definition' at 0x7f2e68790e30>,\n",
       " <Element '{http://www.w3.org/2004/02/skos/core#}narrower' at 0x7f2e68790ef0>,\n",
       " <Element '{http://www.w3.org/2004/02/skos/core#}narrower' at 0x7f2e68790f50>,\n",
       " <Element '{http://www.w3.org/2004/02/skos/core#}narrower' at 0x7f2e68790fb0>]"
      ]
     },
     "execution_count": 19,
     "metadata": {},
     "output_type": "execute_result"
    }
   ],
   "source": [
    "list_links"
   ]
  },
  {
   "cell_type": "code",
   "execution_count": 20,
   "metadata": {},
   "outputs": [],
   "source": [
    "import copy\n",
    "CESSDA_Themenklassifikation = []\n",
    "for tags in list_links[4].iter():\n",
    "    CESSDA_Themenklassifikation.append((tags.text[:]))"
   ]
  },
  {
   "cell_type": "code",
   "execution_count": 21,
   "metadata": {},
   "outputs": [
    {
     "data": {
      "text/plain": [
       "['BEVÖLKERUNGSSTATISTIK']"
      ]
     },
     "execution_count": 21,
     "metadata": {},
     "output_type": "execute_result"
    }
   ],
   "source": [
    "CESSDA_Themenklassifikation"
   ]
  },
  {
   "cell_type": "code",
   "execution_count": null,
   "metadata": {},
   "outputs": [],
   "source": []
  },
  {
   "cell_type": "code",
   "execution_count": 22,
   "metadata": {},
   "outputs": [],
   "source": [
    "tree = ET.parse('TopicClassification-4.2_de-4.2.1.xml')"
   ]
  },
  {
   "cell_type": "code",
   "execution_count": 23,
   "metadata": {},
   "outputs": [],
   "source": [
    "root = tree.getroot()"
   ]
  },
  {
   "cell_type": "code",
   "execution_count": 24,
   "metadata": {},
   "outputs": [
    {
     "data": {
      "text/plain": [
       "<Element '{http://www.w3.org/1999/02/22-rdf-syntax-ns#}RDF' at 0x7f2e692922f0>"
      ]
     },
     "execution_count": 24,
     "metadata": {},
     "output_type": "execute_result"
    }
   ],
   "source": [
    "root"
   ]
  },
  {
   "cell_type": "code",
   "execution_count": 25,
   "metadata": {
    "scrolled": true
   },
   "outputs": [],
   "source": [
    "temp_test = []\n",
    "for tags in root.iter():\n",
    "    if (tags.tag == '{http://www.w3.org/1999/02/22-rdf-syntax-ns#}Description'):\n",
    "        for t in tags.iter():\n",
    "            if (t.tag == '{http://www.w3.org/2004/02/skos/core#}prefLabel'):\n",
    "                for tt in t.iter():\n",
    "                    temp_test.append(tt.text)"
   ]
  },
  {
   "cell_type": "code",
   "execution_count": 29,
   "metadata": {
    "scrolled": true
   },
   "outputs": [
    {
     "data": {
      "text/plain": [
       "['BEVÖLKERUNGSSTATISTIK',\n",
       " 'Volkszählungen',\n",
       " 'Migration',\n",
       " 'Morbidität und Mortalität',\n",
       " 'WIRTSCHAFT',\n",
       " 'Konsum und Konsumverhalten',\n",
       " 'Wirtschaftliche Lage und Indikatoren',\n",
       " 'Wirtschaftspolitik, öffentliche Ausgaben und Einnahmen',\n",
       " 'Wirtschaftssysteme und wirtschaftliche Entwicklung',\n",
       " 'Einkommen, Vermögen und Geldanlagen/Sparen',\n",
       " 'BILDUNG',\n",
       " 'Vorschulerziehung und Bildung in der Pflichtschulzeit',\n",
       " 'Bildungspolitik',\n",
       " 'Höhere Bildung',\n",
       " 'Lebenslanges Lernen',\n",
       " 'Berufsausbildung',\n",
       " 'GESUNDHEIT',\n",
       " 'Ernährung',\n",
       " 'Drogenmissbrauch, Alkoholkonsum und Rauchen',\n",
       " 'Allgemeine Gesundheit und Wohlbefinden',\n",
       " 'Gesundheitswesen',\n",
       " 'Medizinische Behandlung und Medikation',\n",
       " 'Arbeitsmedizin',\n",
       " 'Körperliche Fitness und Bewegung',\n",
       " 'Öffentliche Gesundheit/Public Health',\n",
       " 'Reproduktionsmedizin',\n",
       " 'Krankheitszeichen, Symptome und krankhafte Befunde',\n",
       " 'Spezifische Krankheiten, Störungen und Gesundheitsprobleme',\n",
       " 'Verwundungen und Verletzungen',\n",
       " 'GESCHICHTE',\n",
       " 'WOHNRAUM UND FLÄCHENNUTZUNG',\n",
       " 'Wohnraum',\n",
       " 'Flächennutzung und Raumplanung',\n",
       " 'ARBEIT UND BESCHÄFTIGUNG',\n",
       " 'Berufliche Weiterbildung',\n",
       " 'Beschäftigung und Erwerbstätigkeit',\n",
       " 'Beschäftigungspolitik',\n",
       " 'Arbeitsbeziehungen und Arbeitskonflikte',\n",
       " 'Ruhestand',\n",
       " 'Arbeitslosigkeit',\n",
       " 'Arbeitsbedingungen',\n",
       " 'GESETZ, KRIMINALITÄT UND RECHTSSYSTEME',\n",
       " 'Kriminalität und Gesetzesvollzug',\n",
       " 'Gesetzgebung und Rechtssysteme',\n",
       " 'MEDIEN, KOMMUNIKATION UND SPRACHE',\n",
       " 'Informationsgesellschaft',\n",
       " 'Sprache und Sprachwissenschaft',\n",
       " 'Medien',\n",
       " 'Öffentlichkeitsarbeit/Public Relations',\n",
       " 'UMWELT UND NATUR',\n",
       " 'Energiequellen und natürliche Rohstoffquellen',\n",
       " 'Umweltschutz und Naturschutz',\n",
       " 'Naturlandschaften',\n",
       " 'Pflanzen und Tiere',\n",
       " 'POLITIK',\n",
       " 'Konflikte, Sicherheit und Frieden',\n",
       " 'Wahlen',\n",
       " 'Regierung, politische Systeme, Parteien und Organisationen',\n",
       " 'Internationale Politik und Internationale Organisationen',\n",
       " 'Politisches Verhalten und politische Einstellungen',\n",
       " 'Politische Ideologie',\n",
       " 'PSYCHOLOGIE',\n",
       " 'WISSENSCHAFT UND TECHNIK',\n",
       " 'Biotechnologie',\n",
       " 'Informations- und Kommunikationstechnologie',\n",
       " 'SOZIALE SCHICHTUNG UND GRUPPIERUNGEN',\n",
       " 'Kinder',\n",
       " 'Ältere Menschen',\n",
       " 'Eliten und Führungspersönlichkeiten',\n",
       " 'Gleichheit, Ungleichheit und soziale Ausgrenzung',\n",
       " 'Familie und Ehe',\n",
       " 'Geschlecht und Geschlechterrollen',\n",
       " 'Minderheiten',\n",
       " 'Soziale und berufliche Mobilität',\n",
       " 'Jugend',\n",
       " 'SOZIALPOLITIK, SOZIALFÜRSORGE UND SOZIALSYSTEME',\n",
       " 'Sozialpolitik',\n",
       " 'Sozialsysteme und Strukturen der Sozialfürsorge',\n",
       " 'Inanspruchnahme sozialer Dienstleistungen',\n",
       " 'GESELLSCHAFT UND KULTUR',\n",
       " 'Gemeinde, Wohnumgebung, Stadtleben und Landleben',\n",
       " 'Kulturelle Aktivitäten und kulturelle Teilhabe',\n",
       " 'Kulturelle und nationale Identität',\n",
       " 'Freizeit, Tourismus und Sport',\n",
       " 'Religion und Werte',\n",
       " 'Soziales Verhalten und soziale Einstellungen',\n",
       " 'Sozialer Wandel',\n",
       " 'Soziale Lage und soziale Indikatoren',\n",
       " 'Zeitbudget',\n",
       " 'HANDEL, INDUSTRIE UND MÄRKTE',\n",
       " 'Landwirtschaft und Agrarindustrie',\n",
       " 'Management und Organisation von Betrieben',\n",
       " 'Außenhandel',\n",
       " 'TRANSPORT UND REISEN',\n",
       " 'SONSTIGES']"
      ]
     },
     "execution_count": 29,
     "metadata": {},
     "output_type": "execute_result"
    }
   ],
   "source": [
    "temp_test"
   ]
  },
  {
   "cell_type": "code",
   "execution_count": 30,
   "metadata": {},
   "outputs": [],
   "source": [
    "import pickle \n",
    "with open('CESSDA_Controlled_Vocabulary_for_TopicClassification.pkl', 'wb') as f:\n",
    "    pickle.dump(temp_test, f)"
   ]
  },
  {
   "cell_type": "code",
   "execution_count": null,
   "metadata": {},
   "outputs": [],
   "source": []
  }
 ],
 "metadata": {
  "kernelspec": {
   "display_name": "Python 3",
   "language": "python",
   "name": "python3"
  },
  "language_info": {
   "codemirror_mode": {
    "name": "ipython",
    "version": 3
   },
   "file_extension": ".py",
   "mimetype": "text/x-python",
   "name": "python",
   "nbconvert_exporter": "python",
   "pygments_lexer": "ipython3",
   "version": "3.7.5"
  }
 },
 "nbformat": 4,
 "nbformat_minor": 4
}
